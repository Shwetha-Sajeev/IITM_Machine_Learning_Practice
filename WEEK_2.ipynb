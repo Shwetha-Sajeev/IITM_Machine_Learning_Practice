{
  "nbformat": 4,
  "nbformat_minor": 0,
  "metadata": {
    "colab": {
      "provenance": []
    },
    "kernelspec": {
      "name": "python3",
      "display_name": "Python 3"
    },
    "language_info": {
      "name": "python"
    }
  },
  "cells": [
    {
      "cell_type": "markdown",
      "source": [
        "## Week 2 Practice\n",
        "\n",
        "\n",
        "\n",
        "![download.jpg](data:image/jpeg;base64,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)"
      ],
      "metadata": {
        "id": "4OZR1EBh1GbS"
      }
    },
    {
      "cell_type": "markdown",
      "source": [
        "Data Preprocessing\n",
        "V1: Recency - months since last donation\n",
        "V2: Frequency - total number of donation\n",
        "V3: Monetary - total blood donated in c.c.\n",
        "V4: Time - months since first donation\n",
        "V5: Wheather donor is had fever anytime in last month\n",
        "The target attribute is a binary variable representing whether he/she donated blood in March 2021 ('Yes' stands for donating blood; 'No' stands for not donating blood).\n",
        "\n",
        "Download dataset from following: https://drive.google.com/file/d/1lvvHj0v9LKwe6XUezgpIUY_c0HdJUcCb/view?usp=sharing"
      ],
      "metadata": {
        "id": "u3M99Mhr1Mcs"
      }
    },
    {
      "cell_type": "code",
      "source": [
        "import numpy as np\n",
        "import pandas as pd\n",
        "import seaborn as sns\n",
        "from matplotlib import pyplot as plt\n",
        "\n",
        "import os\n",
        "import requests\n",
        "\n",
        "from sklearn.datasets import fetch_openml\n",
        "from sklearn.preprocessing import StandardScaler, OneHotEncoder, OrdinalEncoder, MinMaxScaler\n",
        "from sklearn.compose import ColumnTransformer\n",
        "from sklearn.pipeline import Pipeline, FeatureUnion\n",
        "from sklearn.impute import SimpleImputer, KNNImputer\n",
        "from sklearn.linear_model import LogisticRegression\n",
        "from sklearn.feature_selection import RFE\n",
        "from sklearn.feature_selection import SequentialFeatureSelector\n",
        "from sklearn import set_config"
      ],
      "metadata": {
        "id": "Az992zRC1QBP"
      },
      "execution_count": 1,
      "outputs": []
    },
    {
      "cell_type": "markdown",
      "source": [
        "1. Explore the dataset.\n",
        "Download data file in CSV format from URL, upload it to runtime and then read it from local virtual disk."
      ],
      "metadata": {
        "id": "b32dqX8d2csl"
      }
    },
    {
      "cell_type": "code",
      "source": [
        "from google.colab import files\n",
        "uploaded = files.upload()"
      ],
      "metadata": {
        "colab": {
          "base_uri": "https://localhost:8080/",
          "height": 73
        },
        "id": "ndHALfSv4OUS",
        "outputId": "9c923696-335e-413a-deeb-fa6bec817449"
      },
      "execution_count": 2,
      "outputs": [
        {
          "output_type": "display_data",
          "data": {
            "text/plain": [
              "<IPython.core.display.HTML object>"
            ],
            "text/html": [
              "\n",
              "     <input type=\"file\" id=\"files-4b6030f6-305e-4273-9ce3-6bfd4d147d9f\" name=\"files[]\" multiple disabled\n",
              "        style=\"border:none\" />\n",
              "     <output id=\"result-4b6030f6-305e-4273-9ce3-6bfd4d147d9f\">\n",
              "      Upload widget is only available when the cell has been executed in the\n",
              "      current browser session. Please rerun this cell to enable.\n",
              "      </output>\n",
              "      <script>// Copyright 2017 Google LLC\n",
              "//\n",
              "// Licensed under the Apache License, Version 2.0 (the \"License\");\n",
              "// you may not use this file except in compliance with the License.\n",
              "// You may obtain a copy of the License at\n",
              "//\n",
              "//      http://www.apache.org/licenses/LICENSE-2.0\n",
              "//\n",
              "// Unless required by applicable law or agreed to in writing, software\n",
              "// distributed under the License is distributed on an \"AS IS\" BASIS,\n",
              "// WITHOUT WARRANTIES OR CONDITIONS OF ANY KIND, either express or implied.\n",
              "// See the License for the specific language governing permissions and\n",
              "// limitations under the License.\n",
              "\n",
              "/**\n",
              " * @fileoverview Helpers for google.colab Python module.\n",
              " */\n",
              "(function(scope) {\n",
              "function span(text, styleAttributes = {}) {\n",
              "  const element = document.createElement('span');\n",
              "  element.textContent = text;\n",
              "  for (const key of Object.keys(styleAttributes)) {\n",
              "    element.style[key] = styleAttributes[key];\n",
              "  }\n",
              "  return element;\n",
              "}\n",
              "\n",
              "// Max number of bytes which will be uploaded at a time.\n",
              "const MAX_PAYLOAD_SIZE = 100 * 1024;\n",
              "\n",
              "function _uploadFiles(inputId, outputId) {\n",
              "  const steps = uploadFilesStep(inputId, outputId);\n",
              "  const outputElement = document.getElementById(outputId);\n",
              "  // Cache steps on the outputElement to make it available for the next call\n",
              "  // to uploadFilesContinue from Python.\n",
              "  outputElement.steps = steps;\n",
              "\n",
              "  return _uploadFilesContinue(outputId);\n",
              "}\n",
              "\n",
              "// This is roughly an async generator (not supported in the browser yet),\n",
              "// where there are multiple asynchronous steps and the Python side is going\n",
              "// to poll for completion of each step.\n",
              "// This uses a Promise to block the python side on completion of each step,\n",
              "// then passes the result of the previous step as the input to the next step.\n",
              "function _uploadFilesContinue(outputId) {\n",
              "  const outputElement = document.getElementById(outputId);\n",
              "  const steps = outputElement.steps;\n",
              "\n",
              "  const next = steps.next(outputElement.lastPromiseValue);\n",
              "  return Promise.resolve(next.value.promise).then((value) => {\n",
              "    // Cache the last promise value to make it available to the next\n",
              "    // step of the generator.\n",
              "    outputElement.lastPromiseValue = value;\n",
              "    return next.value.response;\n",
              "  });\n",
              "}\n",
              "\n",
              "/**\n",
              " * Generator function which is called between each async step of the upload\n",
              " * process.\n",
              " * @param {string} inputId Element ID of the input file picker element.\n",
              " * @param {string} outputId Element ID of the output display.\n",
              " * @return {!Iterable<!Object>} Iterable of next steps.\n",
              " */\n",
              "function* uploadFilesStep(inputId, outputId) {\n",
              "  const inputElement = document.getElementById(inputId);\n",
              "  inputElement.disabled = false;\n",
              "\n",
              "  const outputElement = document.getElementById(outputId);\n",
              "  outputElement.innerHTML = '';\n",
              "\n",
              "  const pickedPromise = new Promise((resolve) => {\n",
              "    inputElement.addEventListener('change', (e) => {\n",
              "      resolve(e.target.files);\n",
              "    });\n",
              "  });\n",
              "\n",
              "  const cancel = document.createElement('button');\n",
              "  inputElement.parentElement.appendChild(cancel);\n",
              "  cancel.textContent = 'Cancel upload';\n",
              "  const cancelPromise = new Promise((resolve) => {\n",
              "    cancel.onclick = () => {\n",
              "      resolve(null);\n",
              "    };\n",
              "  });\n",
              "\n",
              "  // Wait for the user to pick the files.\n",
              "  const files = yield {\n",
              "    promise: Promise.race([pickedPromise, cancelPromise]),\n",
              "    response: {\n",
              "      action: 'starting',\n",
              "    }\n",
              "  };\n",
              "\n",
              "  cancel.remove();\n",
              "\n",
              "  // Disable the input element since further picks are not allowed.\n",
              "  inputElement.disabled = true;\n",
              "\n",
              "  if (!files) {\n",
              "    return {\n",
              "      response: {\n",
              "        action: 'complete',\n",
              "      }\n",
              "    };\n",
              "  }\n",
              "\n",
              "  for (const file of files) {\n",
              "    const li = document.createElement('li');\n",
              "    li.append(span(file.name, {fontWeight: 'bold'}));\n",
              "    li.append(span(\n",
              "        `(${file.type || 'n/a'}) - ${file.size} bytes, ` +\n",
              "        `last modified: ${\n",
              "            file.lastModifiedDate ? file.lastModifiedDate.toLocaleDateString() :\n",
              "                                    'n/a'} - `));\n",
              "    const percent = span('0% done');\n",
              "    li.appendChild(percent);\n",
              "\n",
              "    outputElement.appendChild(li);\n",
              "\n",
              "    const fileDataPromise = new Promise((resolve) => {\n",
              "      const reader = new FileReader();\n",
              "      reader.onload = (e) => {\n",
              "        resolve(e.target.result);\n",
              "      };\n",
              "      reader.readAsArrayBuffer(file);\n",
              "    });\n",
              "    // Wait for the data to be ready.\n",
              "    let fileData = yield {\n",
              "      promise: fileDataPromise,\n",
              "      response: {\n",
              "        action: 'continue',\n",
              "      }\n",
              "    };\n",
              "\n",
              "    // Use a chunked sending to avoid message size limits. See b/62115660.\n",
              "    let position = 0;\n",
              "    do {\n",
              "      const length = Math.min(fileData.byteLength - position, MAX_PAYLOAD_SIZE);\n",
              "      const chunk = new Uint8Array(fileData, position, length);\n",
              "      position += length;\n",
              "\n",
              "      const base64 = btoa(String.fromCharCode.apply(null, chunk));\n",
              "      yield {\n",
              "        response: {\n",
              "          action: 'append',\n",
              "          file: file.name,\n",
              "          data: base64,\n",
              "        },\n",
              "      };\n",
              "\n",
              "      let percentDone = fileData.byteLength === 0 ?\n",
              "          100 :\n",
              "          Math.round((position / fileData.byteLength) * 100);\n",
              "      percent.textContent = `${percentDone}% done`;\n",
              "\n",
              "    } while (position < fileData.byteLength);\n",
              "  }\n",
              "\n",
              "  // All done.\n",
              "  yield {\n",
              "    response: {\n",
              "      action: 'complete',\n",
              "    }\n",
              "  };\n",
              "}\n",
              "\n",
              "scope.google = scope.google || {};\n",
              "scope.google.colab = scope.google.colab || {};\n",
              "scope.google.colab._files = {\n",
              "  _uploadFiles,\n",
              "  _uploadFilesContinue,\n",
              "};\n",
              "})(self);\n",
              "</script> "
            ]
          },
          "metadata": {}
        },
        {
          "output_type": "stream",
          "name": "stdout",
          "text": [
            "Saving DataPreprocessingGraded_dataset (7).csv to DataPreprocessingGraded_dataset (7).csv\n"
          ]
        }
      ]
    },
    {
      "cell_type": "code",
      "source": [
        "import io\n",
        "data = pd.read_csv(io.BytesIO(uploaded['DataPreprocessingGraded_dataset (7).csv']))"
      ],
      "metadata": {
        "id": "_bV29npR4ZJ4"
      },
      "execution_count": 3,
      "outputs": []
    },
    {
      "cell_type": "code",
      "source": [
        "X = data[data.columns[:5]]\n",
        "y = data.Target"
      ],
      "metadata": {
        "id": "o8922Gu-4hLX"
      },
      "execution_count": 4,
      "outputs": []
    },
    {
      "cell_type": "markdown",
      "source": [
        "Instructions\n",
        "For all the questions below (practice and graded), use dataset from following link: 'https://drive.google.com/file/d/1lvvHj0v9LKwe6XUezgpIUY_c0HdJUcCb/view?usp=sharing'"
      ],
      "metadata": {
        "id": "enrKSjvs2qcS"
      }
    },
    {
      "cell_type": "markdown",
      "source": [
        "Que 1:\n",
        "How many samples are there in this dataset?\n",
        "\n",
        "A) 783\n",
        "\n",
        "B) 748\n",
        "\n",
        "C) 782\n",
        "\n",
        "D) 781\n",
        "\n",
        "Answer: B"
      ],
      "metadata": {
        "id": "S35qEgjC2tbN"
      }
    },
    {
      "cell_type": "code",
      "source": [
        "X.shape[0]"
      ],
      "metadata": {
        "colab": {
          "base_uri": "https://localhost:8080/"
        },
        "id": "vdiOKVUF4pui",
        "outputId": "ef7c8b63-1bdf-4c1a-bf9c-8fee6230efcf"
      },
      "execution_count": 5,
      "outputs": [
        {
          "output_type": "execute_result",
          "data": {
            "text/plain": [
              "748"
            ]
          },
          "metadata": {},
          "execution_count": 5
        }
      ]
    },
    {
      "cell_type": "markdown",
      "source": [
        "Que 2:\n",
        "How many input features are there in this dataset?\n",
        "\n",
        "A) 3\n",
        "\n",
        "B) 4\n",
        "\n",
        "C) 5\n",
        "\n",
        "D) 2\n",
        "\n",
        "Answer: C"
      ],
      "metadata": {
        "id": "WzSb8FW32vky"
      }
    },
    {
      "cell_type": "code",
      "source": [
        "X.shape[1]"
      ],
      "metadata": {
        "colab": {
          "base_uri": "https://localhost:8080/"
        },
        "id": "Ga53PTS54s8U",
        "outputId": "8cc8cc5f-db3c-4604-978d-a6743c2e98d4"
      },
      "execution_count": 6,
      "outputs": [
        {
          "output_type": "execute_result",
          "data": {
            "text/plain": [
              "5"
            ]
          },
          "metadata": {},
          "execution_count": 6
        }
      ]
    },
    {
      "cell_type": "markdown",
      "source": [
        "Que 3:\n",
        "What type of problem is this?\n",
        "\n",
        "[Hint: look at the target variable.]\n",
        "\n",
        "A) Regression\n",
        "\n",
        "B) Classification\n",
        "\n",
        "C) Clustering\n",
        "\n",
        "D) Association rule finding\n",
        "\n",
        "Correct: B"
      ],
      "metadata": {
        "id": "cFJUZgVf2ytr"
      }
    },
    {
      "cell_type": "code",
      "source": [
        "y.unique()"
      ],
      "metadata": {
        "colab": {
          "base_uri": "https://localhost:8080/"
        },
        "id": "cnWRTpR04wQo",
        "outputId": "ed6b74ca-ca06-4a0e-c31b-1b5914afe479"
      },
      "execution_count": 7,
      "outputs": [
        {
          "output_type": "execute_result",
          "data": {
            "text/plain": [
              "array(['YES', 'NO'], dtype=object)"
            ]
          },
          "metadata": {},
          "execution_count": 7
        }
      ]
    },
    {
      "cell_type": "markdown",
      "source": [
        "Solution\n",
        "\n",
        "Since the target variable is binary, it is a classification problem."
      ],
      "metadata": {
        "id": "pshke_Db21FQ"
      }
    },
    {
      "cell_type": "markdown",
      "source": [
        "Que. 4\n",
        "Which of the features has least variance?\n",
        "\n",
        "[Hint: Ignore/remove missing values if any. Are there any categorical features?]\n",
        "\n",
        "A) V1\n",
        "\n",
        "B) V5\n",
        "\n",
        "C) V3\n",
        "\n",
        "D) V4\n",
        "\n",
        "E) V2\n",
        "\n",
        "Correct: B"
      ],
      "metadata": {
        "id": "KF-sXovr23bF"
      }
    },
    {
      "cell_type": "code",
      "source": [
        "plt.figure(figsize=(8,8))\n",
        "plt.subplot(221)\n",
        "v1 = X.V1.replace('?',0)\n",
        "# v1 = v1.replace('?', 0)\n",
        "sns.violinplot(data=v1)\n",
        "# sns.violinplot(v1)\n",
        "\n",
        "plt.subplot(222)\n",
        "v2 = X.V2.replace('?', 0)\n",
        "sns.violinplot(data = v2)\n",
        "plt.subplot(223)\n",
        "sns.violinplot(data=X, y='V3')\n",
        "plt.subplot(224)\n",
        "sns.violinplot(data=X, y='V4')\n",
        "plt.show()\n"
      ],
      "metadata": {
        "colab": {
          "base_uri": "https://localhost:8080/",
          "height": 657
        },
        "id": "F1pTicgy44pK",
        "outputId": "520663ac-5826-4c38-98d5-2b1b72af4ad4"
      },
      "execution_count": 8,
      "outputs": [
        {
          "output_type": "display_data",
          "data": {
            "text/plain": [
              "<Figure size 800x800 with 4 Axes>"
            ],
            "image/png": "[encoded data removed]"
          },
          "metadata": {}
        }
      ]
    },
    {
      "cell_type": "code",
      "source": [
        "X['V5'].unique()"
      ],
      "metadata": {
        "colab": {
          "base_uri": "https://localhost:8080/"
        },
        "id": "9hnLuQC85xcH",
        "outputId": "84ab61a2-8226-458c-b4c6-990f5f96d859"
      },
      "execution_count": 9,
      "outputs": [
        {
          "output_type": "execute_result",
          "data": {
            "text/plain": [
              "array(['NEGATIVE'], dtype=object)"
            ]
          },
          "metadata": {},
          "execution_count": 9
        }
      ]
    },
    {
      "cell_type": "markdown",
      "source": [
        "Que.5\n",
        "Which of the following features has least number of outliers?\n",
        "\n",
        "[Hint: Which visualization marks outliers? Ignore/remove missing values if any]\n",
        "\n",
        "A) V1\n",
        "\n",
        "B) V2\n",
        "\n",
        "C) V3\n",
        "\n",
        "Correct: A"
      ],
      "metadata": {
        "id": "7x5Dps8R26ZL"
      }
    },
    {
      "cell_type": "code",
      "source": [
        "fig = plt.figure(figsize=(8,8))\n",
        "ax = fig.add_subplot(221)\n",
        "ax.title.set_text('V1')\n",
        "v1 = X.V1.replace('?', np.NaN)\n",
        "v1 = v1.dropna()\n",
        "sns.boxplot(data=v1)\n",
        "\n",
        "\n",
        "ax = fig.add_subplot(222)\n",
        "ax.title.set_text('V2')\n",
        "v2 = X.V2.replace('?', np.NaN)\n",
        "v2 = v2.dropna()\n",
        "sns.boxplot(data=v2)\n",
        "\n",
        "\n",
        "ax = fig.add_subplot(223)\n",
        "ax.title.set_text('V3')\n",
        "sns.boxplot(data=X, y='V3')\n",
        "\n",
        "ax = fig.add_subplot(224)\n",
        "ax.title.set_text('V4')\n",
        "sns.boxplot(data=X, y='V4')\n",
        "plt.show()\n"
      ],
      "metadata": {
        "colab": {
          "base_uri": "https://localhost:8080/",
          "height": 680
        },
        "id": "FywbqwBa57sD",
        "outputId": "f818ed37-d868-4148-d106-609806402e32"
      },
      "execution_count": 10,
      "outputs": [
        {
          "output_type": "display_data",
          "data": {
            "text/plain": [
              "<Figure size 800x800 with 4 Axes>"
            ],
            "image/png": "[encoded data removed]"
          },
          "metadata": {}
        }
      ]
    },
    {
      "cell_type": "markdown",
      "source": [
        "Que 6\n",
        "Which of the following is true about target variable?\n",
        "\n",
        "A) It has higher 'YES' entries than 'NO' entries.\n",
        "\n",
        "B) It has higher 'NO' entries than 'YES' entries.\n",
        "\n",
        "A) It has same number of entries of 'YES' and 'NO'\n",
        "\n",
        "Correct: B"
      ],
      "metadata": {
        "id": "mt_SK6GD28yK"
      }
    },
    {
      "cell_type": "code",
      "source": [
        "plt.figure()\n",
        "sns.histplot(y)\n",
        "plt.show()"
      ],
      "metadata": {
        "colab": {
          "base_uri": "https://localhost:8080/",
          "height": 449
        },
        "id": "LsLwGz2T7CoG",
        "outputId": "c85669a5-d9ba-4e14-9449-079b22685239"
      },
      "execution_count": 11,
      "outputs": [
        {
          "output_type": "display_data",
          "data": {
            "text/plain": [
              "<Figure size 640x480 with 1 Axes>"
            ],
            "image/png": "[encoded data removed]"
          },
          "metadata": {}
        }
      ]
    },
    {
      "cell_type": "markdown",
      "source": [
        "Que. 7\n",
        "How many features have missing values in the dataset?\n",
        "\n",
        "[Hint: missing values are marked by '?']\n",
        "\n",
        "A) 1\n",
        "\n",
        "B) 2\n",
        "\n",
        "C) 3\n",
        "\n",
        "D) 4\n",
        "\n",
        "Answer: B"
      ],
      "metadata": {
        "id": "Jf4oQsJ02_Ox"
      }
    },
    {
      "cell_type": "code",
      "source": [
        "tt = X.replace('?', np.NaN)\n",
        "tt.isnull().sum()"
      ],
      "metadata": {
        "colab": {
          "base_uri": "https://localhost:8080/"
        },
        "id": "00357Col7J-3",
        "outputId": "9e50e547-2902-48b7-ee7c-98f797306fa5"
      },
      "execution_count": 12,
      "outputs": [
        {
          "output_type": "execute_result",
          "data": {
            "text/plain": [
              "V1    5\n",
              "V2    5\n",
              "V3    0\n",
              "V4    0\n",
              "V5    0\n",
              "dtype: int64"
            ]
          },
          "metadata": {},
          "execution_count": 12
        }
      ]
    },
    {
      "cell_type": "markdown",
      "source": [
        "Que. 8\n",
        "What is total number of missing values in the dataset?\n",
        "\n",
        "A) 12\n",
        "\n",
        "B) 13\n",
        "\n",
        "C) 10\n",
        "\n",
        "D) 11\n",
        "\n",
        "Answer: C"
      ],
      "metadata": {
        "id": "VZpq-j1_3B4z"
      }
    },
    {
      "cell_type": "code",
      "source": [
        "tt = X.replace('?', np.NaN)\n",
        "tt.isnull().sum().sum()"
      ],
      "metadata": {
        "colab": {
          "base_uri": "https://localhost:8080/"
        },
        "id": "42iktqAY7R3b",
        "outputId": "657b0f1f-7aa2-4c60-dd1c-1f7c2aa2a0a7"
      },
      "execution_count": 13,
      "outputs": [
        {
          "output_type": "execute_result",
          "data": {
            "text/plain": [
              "10"
            ]
          },
          "metadata": {},
          "execution_count": 13
        }
      ]
    },
    {
      "cell_type": "markdown",
      "source": [
        "Que. 9\n",
        "What is average of first feature (i.e. 'V1') after applyting SimpleImputer(strategy = 'median')?\n",
        "\n",
        "A) 9.552\n",
        "\n",
        "B) 9.572\n",
        "\n",
        "C) 9.592\n",
        "\n",
        "D) 9.752\n",
        "\n",
        "E) 9.567\n",
        "\n",
        "F) None of these\n",
        "\n",
        "Ans: A"
      ],
      "metadata": {
        "id": "fIufSDpE3Ed7"
      }
    },
    {
      "cell_type": "code",
      "source": [
        "ct = ColumnTransformer(transformers=[('scale', SimpleImputer(strategy='median'), [0])])\n",
        "X.V1 = X.V1.replace('?', np.NaN)\n",
        "ct.fit_transform(X).mean()"
      ],
      "metadata": {
        "colab": {
          "base_uri": "https://localhost:8080/"
        },
        "id": "c0bwjPJX7ceD",
        "outputId": "a66ebd46-ef4e-4e74-a7e2-52373008dd3e"
      },
      "execution_count": 14,
      "outputs": [
        {
          "output_type": "stream",
          "name": "stderr",
          "text": [
            "<ipython-input-14-ce8b90717b53>:2: SettingWithCopyWarning: \n",
            "A value is trying to be set on a copy of a slice from a DataFrame.\n",
            "Try using .loc[row_indexer,col_indexer] = value instead\n",
            "\n",
            "See the caveats in the documentation: https://pandas.pydata.org/pandas-docs/stable/user_guide/indexing.html#returning-a-view-versus-a-copy\n",
            "  X.V1 = X.V1.replace('?', np.NaN)\n"
          ]
        },
        {
          "output_type": "execute_result",
          "data": {
            "text/plain": [
              "9.552139037433156"
            ]
          },
          "metadata": {},
          "execution_count": 14
        }
      ]
    },
    {
      "cell_type": "markdown",
      "source": [
        "Que. 10\n",
        "What is average of first column after applyting KNNImputer(n_neighbors = 3)?\n",
        "\n",
        "A) 9.562\n",
        "\n",
        "B) 9.572\n",
        "\n",
        "C) 9.592\n",
        "\n",
        "D) 9.752\n",
        "\n",
        "E) 9.567\n",
        "\n",
        "F) None of these\n",
        "\n",
        "Ans: A"
      ],
      "metadata": {
        "id": "Nn7Nl4o13HHq"
      }
    },
    {
      "cell_type": "code",
      "source": [
        "ct = ColumnTransformer(transformers=[('impute', KNNImputer(n_neighbors=3), [0])])\n",
        "ct.fit_transform(X).mean()"
      ],
      "metadata": {
        "colab": {
          "base_uri": "https://localhost:8080/"
        },
        "id": "3AokVd8275Mv",
        "outputId": "f91c98cc-7fbe-4fa1-fb90-be3f21a05660"
      },
      "execution_count": 15,
      "outputs": [
        {
          "output_type": "execute_result",
          "data": {
            "text/plain": [
              "9.562584118438762"
            ]
          },
          "metadata": {},
          "execution_count": 15
        }
      ]
    },
    {
      "cell_type": "markdown",
      "source": [
        "Que. 11\n",
        "What is average of second feature (i.e. 'V2') after applyting SimpleImputer(strategy = 'mean')?\n",
        "\n",
        "A) 5.469\n",
        "\n",
        "B) 5.564\n",
        "\n",
        "C) 5.464\n",
        "\n",
        "D) 5.764\n",
        "\n",
        "E) 5.456\n",
        "\n",
        "F) None of these\n",
        "\n",
        "Ans: C"
      ],
      "metadata": {
        "id": "VmNN1Xdy3KjD"
      }
    },
    {
      "cell_type": "code",
      "source": [
        "ct = ColumnTransformer(transformers=[('scale', SimpleImputer(strategy='mean'), [1])])\n",
        "X.V2 = X.V2.replace('?', np.NaN)\n",
        "ct.fit_transform(X).mean()"
      ],
      "metadata": {
        "colab": {
          "base_uri": "https://localhost:8080/"
        },
        "id": "8d23Spzx8MV1",
        "outputId": "4ee75073-3a64-4a54-f3f3-4b75e9770c8c"
      },
      "execution_count": 18,
      "outputs": [
        {
          "output_type": "stream",
          "name": "stderr",
          "text": [
            "<ipython-input-18-7630f6eaabb1>:2: SettingWithCopyWarning: \n",
            "A value is trying to be set on a copy of a slice from a DataFrame.\n",
            "Try using .loc[row_indexer,col_indexer] = value instead\n",
            "\n",
            "See the caveats in the documentation: https://pandas.pydata.org/pandas-docs/stable/user_guide/indexing.html#returning-a-view-versus-a-copy\n",
            "  X.V2 = X.V2.replace('?', np.NaN)\n"
          ]
        },
        {
          "output_type": "execute_result",
          "data": {
            "text/plain": [
              "5.464333781965007"
            ]
          },
          "metadata": {},
          "execution_count": 18
        }
      ]
    },
    {
      "cell_type": "markdown",
      "source": [
        "## Week 2 Graded"
      ],
      "metadata": {
        "id": "FsZ7Cv_w3MOA"
      }
    },
    {
      "cell_type": "markdown",
      "source": [
        "Que. 1\n",
        "How many features remain after applying following pipeline to the feature matrix?\n",
        "\n",
        "\n",
        "A) 5\n",
        "\n",
        "B) 2\n",
        "\n",
        "C) 3\n",
        "\n",
        "D) 4\n",
        "\n",
        "Ans: D"
      ],
      "metadata": {
        "id": "LW-M0tLr3Vos"
      }
    },
    {
      "cell_type": "code",
      "source": [
        "from sklearn.feature_selection import VarianceThreshold\n",
        "vt = VarianceThreshold(threshold = 0.1)\n",
        "\n",
        "numerical_pipe = ColumnTransformer(transformers=[('impute', SimpleImputer(strategy='mean'), [0,1,2,3])])\n",
        "scale_pipe = Pipeline(steps=[('numeric', numerical_pipe),\n",
        "                             ('scale', StandardScaler())])\n",
        "\n",
        "categorical_pipe = ColumnTransformer(transformers= [('cat', OrdinalEncoder(), [4])])\n",
        "complete_pipe = FeatureUnion([('numeric', scale_pipe), ('cat', categorical_pipe)])\n",
        "pipe = Pipeline(steps= [('cp', complete_pipe),\n",
        "                        ('varianceThreshold', VarianceThreshold(threshold = 0.1))])\n",
        "\n",
        "pipe.fit_transform(X).shape\n"
      ],
      "metadata": {
        "colab": {
          "base_uri": "https://localhost:8080/"
        },
        "id": "fhl_AKXYAGa7",
        "outputId": "e8394215-025c-4d77-87a1-8a7909da30ef"
      },
      "execution_count": 21,
      "outputs": [
        {
          "output_type": "execute_result",
          "data": {
            "text/plain": [
              "(748, 4)"
            ]
          },
          "metadata": {},
          "execution_count": 21
        }
      ]
    },
    {
      "cell_type": "code",
      "source": [
        "data = pd.read_csv('/content/DataPreprocessingGraded_dataset (7).csv', na_values=\"?\")"
      ],
      "metadata": {
        "id": "HgJIBh-hDPks"
      },
      "execution_count": 22,
      "outputs": []
    },
    {
      "cell_type": "code",
      "source": [
        "y = pd.DataFrame(data.pop('Target'))\n",
        "\n",
        "num_pipe = Pipeline([('colselect', ColumnTransformer([('select', 'passthrough',[0,1,2,3])])), ('impute', SimpleImputer()), ('scale', StandardScaler())])\n",
        "cat_pipe = ColumnTransformer([('encode', OrdinalEncoder(), [4])])\n",
        "pipe = FeatureUnion([('numerical', num_pipe), ('categorical', cat_pipe)])\n",
        "tr_x = pipe.fit_transform(data)\n",
        "\n",
        "estimator = LogisticRegression()\n",
        "oe = OrdinalEncoder()\n",
        "tr_y = oe.fit_transform(y)\n",
        "rfe = RFE(estimator, n_features_to_select=2)\n",
        "\n",
        "rfe.fit_transform(tr_x, tr_y.reshape(-1,))\n",
        "rfe.support_"
      ],
      "metadata": {
        "colab": {
          "base_uri": "https://localhost:8080/"
        },
        "id": "uYjftoZBBwR8",
        "outputId": "a7f27798-f48c-4255-e145-ffc3b3910206"
      },
      "execution_count": 23,
      "outputs": [
        {
          "output_type": "execute_result",
          "data": {
            "text/plain": [
              "array([ True, False,  True, False, False])"
            ]
          },
          "metadata": {},
          "execution_count": 23
        }
      ]
    },
    {
      "cell_type": "code",
      "source": [
        "set_config(display='diagram')"
      ],
      "metadata": {
        "id": "QSiZ-w0qDKTK"
      },
      "execution_count": 24,
      "outputs": []
    },
    {
      "cell_type": "markdown",
      "source": [
        "Que. 2\n",
        "What are the two most important features computed by RFE?\n",
        "\n",
        "Preprocess the data using pipeline shown in the diagram. Use LogisticRegression (with default parameters) for the estimator. Encode target variable via ordinal encoding.\n",
        "\n",
        "A)V1\n",
        "\n",
        "B)V2\n",
        "\n",
        "C)V3\n",
        "\n",
        "D)V4\n",
        "\n",
        "Correct: A and C"
      ],
      "metadata": {
        "id": "urY6aJaW3Wuv"
      }
    },
    {
      "cell_type": "code",
      "source": [
        "%%capture\n",
        "\n",
        "# use logistic regressor with default option for estimator\n",
        "estimator = LogisticRegression()\n",
        "\n",
        "# encode target via ordinal encoding\n",
        "# reshaping y is necessary because the transformer only accepts column vector\n",
        "y_encoded = OrdinalEncoder().fit_transform(y.to_numpy().reshape(-1,1)).reshape(-1,1)\n",
        "\n",
        "# create RFE object with necessary parameters\n",
        "selector = RFE(estimator, n_features_to_select=2)\n",
        "\n",
        "# run RFE on dataset\n",
        "selector = selector.fit(complete_pipe.fit_transform(X), y_encoded)"
      ],
      "metadata": {
        "id": "Jk1I0ieY-0ig"
      },
      "execution_count": 25,
      "outputs": []
    },
    {
      "cell_type": "code",
      "source": [
        "# find the finally selected features\n",
        "# selected features have 'True' in corresponding indices\n",
        "print(selector.support_)"
      ],
      "metadata": {
        "colab": {
          "base_uri": "https://localhost:8080/"
        },
        "id": "9bCAi19e_za5",
        "outputId": "c838cd7b-72d1-4bdf-cd31-141142181927"
      },
      "execution_count": 26,
      "outputs": [
        {
          "output_type": "stream",
          "name": "stdout",
          "text": [
            "[ True False  True False False]\n"
          ]
        }
      ]
    },
    {
      "cell_type": "markdown",
      "source": [
        "Que. 3\n",
        "What are the indices of two most important features computed by SFS (forward)?\n",
        "\n",
        "Preprocess the data using pipeline shown in the diagram. Use LogisticRegression (with default parameters) for the estimator. Encode target variable via ordinal encoding.\n",
        "\n",
        "A) 0 (i.e. feature V1)\n",
        "\n",
        "B) 1 (i.e. feature V2)\n",
        "\n",
        "C) 2 (i.e. feature V3)\n",
        "\n",
        "D) 3 (i.e. feature V4)\n",
        "\n",
        "Correct: B and D"
      ],
      "metadata": {
        "id": "ToMrlfLs3aaO"
      }
    },
    {
      "cell_type": "code",
      "source": [
        "%%capture\n",
        "selector = SequentialFeatureSelector(estimator=LogisticRegression(),\n",
        "                                     n_features_to_select=2)\n",
        "\n",
        "# run SFS in backward direction\n",
        "selector.fit(complete_pipe.fit_transform(X), y_encoded)\n",
        "\n"
      ],
      "metadata": {
        "id": "s0xhNrsx-LYL"
      },
      "execution_count": 27,
      "outputs": []
    },
    {
      "cell_type": "code",
      "source": [
        "# find the finally selected features\n",
        "# selected features have 'True' in corresponding indices\n",
        "\n",
        "selector.support_"
      ],
      "metadata": {
        "colab": {
          "base_uri": "https://localhost:8080/"
        },
        "id": "PQIVZO7S-kvg",
        "outputId": "96339817-8c39-4b64-8f08-b6b90b5135f5"
      },
      "execution_count": 28,
      "outputs": [
        {
          "output_type": "execute_result",
          "data": {
            "text/plain": [
              "array([False,  True, False,  True, False])"
            ]
          },
          "metadata": {},
          "execution_count": 28
        }
      ]
    },
    {
      "cell_type": "markdown",
      "source": [
        "Que. 4\n",
        "What are the indices of two most important features computed by SFS (backward)?\n",
        "\n",
        "Preprocess the data using pipeline shown in the diagram. Use LogisticRegression (with default parameters) for the estimator. Encode target variable via ordinal encoding.\n",
        "\n",
        "A) 0 (i.e. feature V1)\n",
        "\n",
        "B) 1 (i.e. feature V2)\n",
        "\n",
        "C) 2 (i.e. feature V3)\n",
        "\n",
        "D) 3 (i.e. feature V4)\n",
        "\n",
        "Correct: C and D"
      ],
      "metadata": {
        "id": "Cw4WglYM302w"
      }
    },
    {
      "cell_type": "code",
      "source": [
        "%%capture\n",
        "\n",
        "# initialize SFS object with appropriate parameters\n",
        "selector = SequentialFeatureSelector(estimator= LogisticRegression(),\n",
        "                                     n_features_to_select =2,\n",
        "                                     direction= 'backward')\n",
        "\n",
        "# run SFS in backward direction\n",
        "selector.fit(complete_pipe.fit_transform(X), y_encoded)\n",
        "\n"
      ],
      "metadata": {
        "id": "lV_HabH59ERH"
      },
      "execution_count": 29,
      "outputs": []
    },
    {
      "cell_type": "code",
      "source": [
        "# find the finally selected features\n",
        "# selected features have 'True' in corresponding indices\n",
        "\n",
        "selector.support_"
      ],
      "metadata": {
        "colab": {
          "base_uri": "https://localhost:8080/"
        },
        "id": "bsXaY1x49-XN",
        "outputId": "5e7641ae-fee5-4c71-97bc-2b2c2d5ac451"
      },
      "execution_count": 30,
      "outputs": [
        {
          "output_type": "execute_result",
          "data": {
            "text/plain": [
              "array([False, False,  True,  True, False])"
            ]
          },
          "metadata": {},
          "execution_count": 30
        }
      ]
    }
  ]
}