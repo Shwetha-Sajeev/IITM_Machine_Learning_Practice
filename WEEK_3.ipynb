{
  "nbformat": 4,
  "nbformat_minor": 0,
  "metadata": {
    "colab": {
      "provenance": []
    },
    "kernelspec": {
      "name": "python3",
      "display_name": "Python 3"
    },
    "language_info": {
      "name": "python"
    }
  },
  "cells": [
    {
      "cell_type": "code",
      "execution_count": 1,
      "metadata": {
        "id": "KfrA2YozD5Rh"
      },
      "outputs": [],
      "source": [
        "from sklearn.datasets import fetch_california_housing\n",
        "X,y = fetch_california_housing(as_frame=True, return_X_y= True)"
      ]
    },
    {
      "cell_type": "markdown",
      "source": [
        "## WEEK3 PRACTICE"
      ],
      "metadata": {
        "id": "JV35-jtfFKXd"
      }
    },
    {
      "cell_type": "markdown",
      "source": [
        "Instruction: Based on california housing dataset answer the Questions that follow."
      ],
      "metadata": {
        "id": "QFgIC0lSFOzN"
      }
    },
    {
      "cell_type": "markdown",
      "source": [
        "Que 1\n",
        "What is the shape of feature matrix for the dataset?\n",
        "\n",
        "a. (20640, 8)\n",
        "\n",
        "b. (2064, 8)\n",
        "\n",
        "c. (20610, 8)\n",
        "\n",
        "d. (20600, 8)\n",
        "\n",
        "Correct Answer: a"
      ],
      "metadata": {
        "id": "rOW7O0YpFRrK"
      }
    },
    {
      "cell_type": "code",
      "source": [
        "X.shape"
      ],
      "metadata": {
        "colab": {
          "base_uri": "https://localhost:8080/"
        },
        "id": "8_kz8gOtHPs5",
        "outputId": "49ab49b9-3c70-40fa-9f1e-47b7ccd80faf"
      },
      "execution_count": 2,
      "outputs": [
        {
          "output_type": "execute_result",
          "data": {
            "text/plain": [
              "(20640, 8)"
            ]
          },
          "metadata": {},
          "execution_count": 2
        }
      ]
    },
    {
      "cell_type": "markdown",
      "source": [
        "Que 2\n",
        "How many missing values are present in the dataset?\n",
        "\n",
        "a. 100\n",
        "\n",
        "b. 157\n",
        "\n",
        "c. 0\n",
        "\n",
        "d. 87\n",
        "\n",
        "Correct answer: c"
      ],
      "metadata": {
        "id": "O68MSCTVFTz9"
      }
    },
    {
      "cell_type": "code",
      "source": [
        "X.isna().sum().sum()"
      ],
      "metadata": {
        "colab": {
          "base_uri": "https://localhost:8080/"
        },
        "id": "cSGXCkveHSkt",
        "outputId": "eecec47d-0b94-4e52-854b-453dc933b631"
      },
      "execution_count": 3,
      "outputs": [
        {
          "output_type": "execute_result",
          "data": {
            "text/plain": [
              "0"
            ]
          },
          "metadata": {},
          "execution_count": 3
        }
      ]
    },
    {
      "cell_type": "markdown",
      "source": [
        "Instructions: For Que 3 to 6, split the california housing dataset into train and test sets.\n",
        "\n",
        "[Hint: us appropriate API with random_state=0, shuffle=False and test_size=0.2]\n",
        "\n",
        "Que 3\n",
        "What is the value of house age in third sample of test set?\n",
        "\n",
        "a) 23\n",
        "\n",
        "b) 28\n",
        "\n",
        "c) 37\n",
        "\n",
        "d) 17\n",
        "\n",
        "Correct Answer: b"
      ],
      "metadata": {
        "id": "dzwmVpDjFWe1"
      }
    },
    {
      "cell_type": "markdown",
      "source": [
        "Que 4\n",
        "What is the value of Population in the first sample of training set?\n",
        "\n",
        "a) 2401\n",
        "\n",
        "b) 1700\n",
        "\n",
        "c) 322\n",
        "\n",
        "d) 157\n",
        "\n",
        "Correct Anwswer: c"
      ],
      "metadata": {
        "id": "g7BkQDdYFZRR"
      }
    },
    {
      "cell_type": "markdown",
      "source": [
        "Que 5\n",
        "What is the mean of output label in training set?\n",
        "\n",
        "a) 1.98\n",
        "\n",
        "b) 1.96\n",
        "\n",
        "c) 2.04\n",
        "\n",
        "d) 2.02\n",
        "\n",
        "Correct Answer:d"
      ],
      "metadata": {
        "id": "3_7RkbWkFZ9t"
      }
    },
    {
      "cell_type": "markdown",
      "source": [
        "Que 6\n",
        "What is the median of output label in test set?\n",
        "\n",
        "a) 2.02\n",
        "\n",
        "b) 1.96\n",
        "\n",
        "c) 2.14\n",
        "\n",
        "d) 2.34\n",
        "\n",
        "Correct Answer: c"
      ],
      "metadata": {
        "id": "8ogRdkSEFd8c"
      }
    },
    {
      "cell_type": "code",
      "source": [
        "from sklearn.model_selection import train_test_split\n",
        "X_train, X_test, y_train, y_test = train_test_split(X,y, test_size=0.2, shuffle=False, random_state=42)\n",
        "\n",
        "print(X_test.HouseAge.iloc[2])\n",
        "print(X_train.Population.iloc[0])\n",
        "print(y_train.mean())\n",
        "print(y_test.median())"
      ],
      "metadata": {
        "colab": {
          "base_uri": "https://localhost:8080/"
        },
        "id": "Ihuw2CqbHbZl",
        "outputId": "957b41d0-48cb-4208-d6a1-2b8b16e0670b"
      },
      "execution_count": 4,
      "outputs": [
        {
          "output_type": "stream",
          "name": "stdout",
          "text": [
            "28.0\n",
            "322.0\n",
            "2.02067031310562\n",
            "2.1475\n"
          ]
        }
      ]
    },
    {
      "cell_type": "markdown",
      "source": [
        "Que 7\n",
        "If we use StandardScaler for preprocessing and LinearRegression for fitting the model with training set obtained in previous questions, what are the coefficients obtained in the predicted model?\n",
        "\n",
        "Note: Use methods and objects with default parameters.\n",
        "\n",
        "a. [ 0.7296 , 0.2187, -0.3655, 0.4056, -0.0045 , -0.0493, -0.9998, -0.8705 ]\n",
        "\n",
        "b. [ 0.9296 , 0.2287, -0.3655, 0.4056, -0.0045 , -0.0393, -0.8998, -0.8705 ]\n",
        "\n",
        "c. [ 0.2961, 0.1875, -0.6552, 0.30569623, -0.0045 , -0.0393, -0.8998, -0.8705 ]\n",
        "\n",
        "d. [ 0.8381, 0.1203, -0.3213, 0.3645, -0.0017,-0.0452, -0.8799, -0.8263]\n",
        "\n",
        "Correct Answer : d"
      ],
      "metadata": {
        "id": "FzojEABiFf_8"
      }
    },
    {
      "cell_type": "code",
      "source": [
        "from sklearn.preprocessing import StandardScaler\n",
        "from sklearn.pipeline import Pipeline\n",
        "from sklearn.linear_model import LinearRegression\n",
        "pipe = Pipeline(steps=[('scaler', StandardScaler()),\n",
        "                       ('regressor', LinearRegression())])\n",
        "\n",
        "pipe.fit(X_train, y_train)\n",
        "pipe[-1].coef_"
      ],
      "metadata": {
        "colab": {
          "base_uri": "https://localhost:8080/"
        },
        "id": "vpsy2Yx1H_k3",
        "outputId": "a1b04ad2-6474-4922-e20b-58511a69bb52"
      },
      "execution_count": 5,
      "outputs": [
        {
          "output_type": "execute_result",
          "data": {
            "text/plain": [
              "array([ 0.83817967,  0.12032096, -0.32135834,  0.36456599, -0.00170674,\n",
              "       -0.04524631, -0.87994217, -0.82634126])"
            ]
          },
          "metadata": {},
          "execution_count": 5
        }
      ]
    },
    {
      "cell_type": "markdown",
      "source": [
        "Que 8\n",
        "If we use StandardScaler for preprocessing and LinearRegression for fitting the model with training set used in previous question, what is the bias term predicted by the model?\n",
        "\n",
        "Note: Use methods and objects with default parameters\n",
        "\n",
        "a. 1.06855\n",
        "\n",
        "b. 2.02067\n",
        "\n",
        "c. 3.06855\n",
        "\n",
        "d. -2.06855\n",
        "\n",
        "Correct Answer : b"
      ],
      "metadata": {
        "id": "yereVcylFiix"
      }
    },
    {
      "cell_type": "code",
      "source": [
        "pipe[-1].intercept_"
      ],
      "metadata": {
        "colab": {
          "base_uri": "https://localhost:8080/"
        },
        "id": "kVpcBYVJJG5H",
        "outputId": "6f1cc323-9012-46eb-ecf8-cd742b4d989f"
      },
      "execution_count": 6,
      "outputs": [
        {
          "output_type": "execute_result",
          "data": {
            "text/plain": [
              "2.020670313105614"
            ]
          },
          "metadata": {},
          "execution_count": 6
        }
      ]
    },
    {
      "cell_type": "markdown",
      "source": [
        "## Week 3 Graded"
      ],
      "metadata": {
        "id": "3Qhwecn4JKrI"
      }
    },
    {
      "cell_type": "markdown",
      "source": [
        "Instructions: For all graded questions, split the california housing dataset into train and test sets.\n",
        "\n",
        "[Hint: use appropriate API with random_state=0, shuffle=False and test_size=0.2]"
      ],
      "metadata": {
        "id": "9QpjegEVJP3G"
      }
    },
    {
      "cell_type": "markdown",
      "source": [
        "Que 9\n",
        "If we use StandardScaler for preprocessing and LinearRegression for fitting the model with training set used in previous question, what is the R squared value for predictions obtained using test set features?\n",
        "\n",
        "Note: Use methods and objects with default parameters\n",
        "\n",
        "a. 0.66051\n",
        "\n",
        "b. 0.70623\n",
        "\n",
        "c. 0.80623\n",
        "\n",
        "d. 0.90623\n",
        "\n",
        "Correct Answer : a"
      ],
      "metadata": {
        "id": "InaHi1pGJSOL"
      }
    },
    {
      "cell_type": "code",
      "source": [
        "import sklearn.metrics as skm\n",
        "y_pred = pipe.predict(X_test)\n",
        "skm.r2_score(y_test, y_pred)"
      ],
      "metadata": {
        "colab": {
          "base_uri": "https://localhost:8080/"
        },
        "id": "Sd_DRqgDJrWH",
        "outputId": "bc8fc49d-21f7-4f75-d4e3-c3cf248fd308"
      },
      "execution_count": 7,
      "outputs": [
        {
          "output_type": "execute_result",
          "data": {
            "text/plain": [
              "0.6605140591531993"
            ]
          },
          "metadata": {},
          "execution_count": 7
        }
      ]
    },
    {
      "cell_type": "markdown",
      "source": [
        "Que 10\n",
        "If we use StandardScaler for preprocessing and LinearRegression for fitting the model, what is the root mean squared error value for predictions obtained using test set features?\n",
        "\n",
        "Note: Use methods and objects with default parameters\n",
        "\n",
        "a. 0.8241\n",
        "\n",
        "b. 0.9241\n",
        "\n",
        "c. 0.7033\n",
        "\n",
        "d. 0.6241\n",
        "\n",
        "Correct Answer : c"
      ],
      "metadata": {
        "id": "DNYlVXQ0JUsd"
      }
    },
    {
      "cell_type": "code",
      "source": [
        "import sklearn.metrics as skm\n",
        "y_pred = pipe.predict(X_test)\n",
        "skm.mean_squared_error(y_test, y_pred, squared=False)"
      ],
      "metadata": {
        "colab": {
          "base_uri": "https://localhost:8080/"
        },
        "id": "FCfMd13rJ2Zs",
        "outputId": "4875f8e7-5ef8-4b67-96e1-cd1469817612"
      },
      "execution_count": 8,
      "outputs": [
        {
          "output_type": "execute_result",
          "data": {
            "text/plain": [
              "0.7033383507521878"
            ]
          },
          "metadata": {},
          "execution_count": 8
        }
      ]
    },
    {
      "cell_type": "markdown",
      "source": [
        "Instructions for next ques from Que 11 to 16\n",
        "\n",
        "Split the data into training and test sets with random_state=0, shuffle=False and test_size=0.2 parameters.\n",
        "\n",
        "Let, y_test= target label in test set of california housing dataset\n",
        "\n",
        "and y_pred=target labels obtained by the model using X_test\n",
        "\n",
        "Then compute values of the following evaluation metrics"
      ],
      "metadata": {
        "id": "H9r2uH8BJW3i"
      }
    },
    {
      "cell_type": "markdown",
      "source": [
        "Que 11\n",
        "Explained Variance score\n",
        "\n",
        "a) 0.66\n",
        "\n",
        "b) 0.81\n",
        "\n",
        "c) 0.73\n",
        "\n",
        "d) 0.90\n",
        "\n",
        "Correct Answer: a"
      ],
      "metadata": {
        "id": "EPiNZq5OJY-z"
      }
    },
    {
      "cell_type": "markdown",
      "source": [
        "Que 12\n",
        "Max Error\n",
        "\n",
        "a. 0.18\n",
        "\n",
        "b. 2.16\n",
        "\n",
        "c. 0.66\n",
        "\n",
        "d. 7.26\n",
        "\n",
        "Correct Answer: d"
      ],
      "metadata": {
        "id": "kMImMHgCJbFN"
      }
    },
    {
      "cell_type": "markdown",
      "source": [
        "Que 13\n",
        "Mean Absolute Error\n",
        "\n",
        "a) 0.213\n",
        "\n",
        "b) 0.516\n",
        "\n",
        "c) 0.398\n",
        "\n",
        "d) 0.422\n",
        "\n",
        "Correct Answer: b"
      ],
      "metadata": {
        "id": "Nmu8AQwRJc4j"
      }
    },
    {
      "cell_type": "markdown",
      "source": [
        "Que 14\n",
        "Mean Squared Error\n",
        "\n",
        "a) 0.038\n",
        "\n",
        "b) 0.494\n",
        "\n",
        "c) 0.506\n",
        "\n",
        "d) 0.872\n",
        "\n",
        "Correct Answer: b"
      ],
      "metadata": {
        "id": "NjXrz4N9Jey2"
      }
    },
    {
      "cell_type": "code",
      "source": [
        "import sklearn.metrics as skm\n",
        "def many_scores_at_once(y_true, y_pred):\n",
        "  Functions = [skm.explained_variance_score, skm.max_error, skm.mean_absolute_error, skm.mean_squared_error, (lambda x,y: skm.mean_squared_error(x,y, squared=False)), skm.r2_score]\n",
        "  Names = (\"Explained variance score:\", \"Max Error: \", \"Mean Absolute Error: \", \"Mean Squared Error:\", \"Root Mean Squared Error: \", \"R squared score:\")\n",
        "  Scores = [f(y_true, y_pred) for f in Functions]\n",
        "  output = dict(zip(Names, Scores))\n",
        "  return output\n",
        "\n",
        "many_scores_at_once(y_test, y_pred)\n"
      ],
      "metadata": {
        "colab": {
          "base_uri": "https://localhost:8080/"
        },
        "id": "3lJWw2CoKGdf",
        "outputId": "f938bb42-c9eb-47be-b187-73132055695b"
      },
      "execution_count": 9,
      "outputs": [
        {
          "output_type": "execute_result",
          "data": {
            "text/plain": [
              "{'Explained variance score:': 0.6605500501742703,\n",
              " 'Max Error: ': 7.260453292958372,\n",
              " 'Mean Absolute Error: ': 0.5168526993787042,\n",
              " 'Mean Squared Error:': 0.4946848356388075,\n",
              " 'Root Mean Squared Error: ': 0.7033383507521878,\n",
              " 'R squared score:': 0.6605140591531993}"
            ]
          },
          "metadata": {},
          "execution_count": 9
        }
      ]
    },
    {
      "cell_type": "markdown",
      "source": [
        "Instructions: for Ques 15 to 16, perform SGD Regression on the given (scaled using StandardScalar()) dataset, using default hyperparameters and random_state=0."
      ],
      "metadata": {
        "id": "qAMK1cT1Jg-7"
      }
    },
    {
      "cell_type": "markdown",
      "source": [
        "Que 15\n",
        "What is the bias term?\n",
        "\n",
        "a) 2.0112\n",
        "\n",
        "b) 1.0704\n",
        "\n",
        "c) 0.0704\n",
        "\n",
        "d) 3.0704\n",
        "\n",
        "Correct Answer: a"
      ],
      "metadata": {
        "id": "z9IEBoO3JjDt"
      }
    },
    {
      "cell_type": "markdown",
      "source": [
        "Que 16\n",
        "What are the coefficients in predicted model?\n",
        "\n",
        "a) [ 0.9268, 2.1200, -0.2552 , 0.3310 , -0.0076,0.02969, -0.9130 , -0.8845]\n",
        "\n",
        "b) [ 1.8268, 0.1200, -2.2552 , 0.3310 , -0.0076,0.02969, -0.9130 , -2.8845]\n",
        "\n",
        "c) [ 0.8404, 0.1123 , -0.4121, 0.2159, -0.0178,-0.01480, -0.8739, -0.8391]\n",
        "\n",
        "d) [ 0.9268, 0.3200, -0.2552 , 0.4310 , -0.0076,0.02969, -0.9130 , -1.8845]\n",
        "\n",
        "Correct Answer: c"
      ],
      "metadata": {
        "id": "rqeBMUUjJlAd"
      }
    },
    {
      "cell_type": "code",
      "source": [
        "import numpy as  np\n",
        "from sklearn.pipeline import Pipeline\n",
        "from sklearn.linear_model import SGDRegressor\n",
        "from sklearn.model_selection import train_test_split\n",
        "\n",
        "def baseline_sgd( X, y, X_test, y_test, scaler):\n",
        "  model = Pipeline([('scale',scaler),('sgd',SGDRegressor(random_state=0))])\n",
        "  model.fit(X, y)\n",
        "\n",
        "  return_vals= {\"Coeffecients\": model[-1].coef_,\"Bias\": model[-1].intercept_,\n",
        "              }\n",
        "\n",
        "  return return_vals\n",
        "X_train,Xtest,y_train,ytest= train_test_split(X,y, test_size=0.2, shuffle=False, random_state=42)\n",
        "baseline_sgd(X_train,y_train,X_test,y_test,StandardScaler())"
      ],
      "metadata": {
        "colab": {
          "base_uri": "https://localhost:8080/"
        },
        "id": "hZPw0opmLk6r",
        "outputId": "e5ec0da7-bb84-4c03-d17e-a6512f731e9c"
      },
      "execution_count": 13,
      "outputs": [
        {
          "output_type": "execute_result",
          "data": {
            "text/plain": [
              "{'Coeffecients': array([ 0.84046697,  0.112331  , -0.41213039,  0.21595971, -0.01781887,\n",
              "        -0.01480892, -0.87394103, -0.83913104]),\n",
              " 'Bias': array([2.01123921])}"
            ]
          },
          "metadata": {},
          "execution_count": 13
        }
      ]
    }
  ]
}