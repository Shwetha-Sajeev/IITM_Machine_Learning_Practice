{
  "nbformat": 4,
  "nbformat_minor": 0,
  "metadata": {
    "colab": {
      "provenance": []
    },
    "kernelspec": {
      "name": "python3",
      "display_name": "Python 3"
    },
    "language_info": {
      "name": "python"
    }
  },
  "cells": [
    {
      "cell_type": "markdown",
      "source": [
        "## Week 4 Practice"
      ],
      "metadata": {
        "id": "-koH81mhNns2"
      }
    },
    {
      "cell_type": "markdown",
      "source": [
        "Question 1- Practice\n",
        "Write the function compute_explained_variance(y_true, y_pred) for calculating the explained variance score for a linear regression dataset Here y_true is the true (actual) label and y_pred is the predicted label. The function should return the explained variance scoreevs. Consider, y_true = [7, 4, 9, 4] and y_pred = [8, 7, 12, 5] For these labels, what is the output of the function 'compute_explained_variance'? (Enter your answer in four decimal places)\n",
        "\n",
        "(NAT)\n",
        "\n",
        "Answer: 0.7777 (Range: 0.7-0.8)"
      ],
      "metadata": {
        "id": "LLy4qvCeNvS1"
      }
    },
    {
      "cell_type": "code",
      "source": [
        "def compute_explained_variance(y_true, y_pred):\n",
        "  from sklearn.metrics import explained_variance_score\n",
        "  evs = explained_variance_score(y_true, y_pred)\n",
        "  return evs"
      ],
      "metadata": {
        "id": "hdAoiNtCOK5N"
      },
      "execution_count": 1,
      "outputs": []
    },
    {
      "cell_type": "code",
      "source": [
        "from sklearn.metrics import explained_variance_score\n",
        "y_true = [7,4,9,4]\n",
        "y_pred = [8,7,12,5]\n",
        "print(compute_explained_variance(y_true, y_pred))"
      ],
      "metadata": {
        "colab": {
          "base_uri": "https://localhost:8080/"
        },
        "id": "Pshpnv6fOcRI",
        "outputId": "8d102407-1956-4207-df79-09e448be86ff"
      },
      "execution_count": 2,
      "outputs": [
        {
          "output_type": "stream",
          "name": "stdout",
          "text": [
            "0.7777777777777778\n"
          ]
        }
      ]
    },
    {
      "cell_type": "markdown",
      "source": [
        "Question 2- Practice\n",
        "Write a function compute_score(X_train, y_train, X_test, y_test) to compute the score of SGDRegressor for predicting the house price of California Housing dataset. Write your code based on the following keypoints:\n",
        "\n",
        "Split the California housing dataset into train and test set with 70:30 ratio and random_state = 1\n",
        "Import StandardScaler for scaling X_train and X_test to X_train_norm and X_test_norm with_mean = True and with_std = True\n",
        "Import SGDRegressor as 'model' with hyperparamters loss as 'squared_error', penalty as 'l1' and alpha as 0.01 and random_state = 1\n",
        "Train the 'model' and compute the 'score' on test data\n",
        "Enter the value of the 'score' computed from the function 'compute_score'. (Enter your answer in four decimal places)\n",
        "\n",
        "(NAT)\n",
        "\n",
        "Answer: 0.5951 (Range: 0.59 - 0.6)"
      ],
      "metadata": {
        "id": "V4pzxLXeN0Tg"
      }
    },
    {
      "cell_type": "code",
      "source": [
        "import numpy as np\n",
        "import sklearn\n",
        "\n",
        "from sklearn.datasets import fetch_california_housing\n",
        "housing = fetch_california_housing()\n",
        "\n",
        "from sklearn.model_selection import train_test_split\n",
        "X_train, X_test, y_train, y_test = train_test_split(housing.data, housing.target, test_size=0.3, random_state=1)"
      ],
      "metadata": {
        "id": "0v_MDE5tO1N1"
      },
      "execution_count": 4,
      "outputs": []
    },
    {
      "cell_type": "code",
      "source": [
        "def compute_score(X_train, y_train, X_test, y_test):\n",
        "  from sklearn.preprocessing import StandardScaler\n",
        "  from sklearn.linear_model import SGDRegressor\n",
        "  scaler = StandardScaler(with_mean=True, with_std=True)\n",
        "  X_train_norm = scaler.fit_transform(X_train)\n",
        "  X_test_norm = scaler.transform(X_test)\n",
        "\n",
        "  model = SGDRegressor(loss='squared_error', penalty='l1', alpha=0.01, random_state=1)\n",
        "  model.fit(X_train_norm, y_train)\n",
        "\n",
        "  score = model.score(X_test_norm, y_test)\n",
        "  return score\n",
        "  # code ends here\n",
        "  pass"
      ],
      "metadata": {
        "id": "JbqhUPIMP9vb"
      },
      "execution_count": 6,
      "outputs": []
    },
    {
      "cell_type": "code",
      "source": [
        "score = compute_score(X_train, y_train, X_test, y_test)\n",
        "print(score)\n"
      ],
      "metadata": {
        "colab": {
          "base_uri": "https://localhost:8080/"
        },
        "id": "1GiCdIc6RaOm",
        "outputId": "2be54f99-fadf-4b55-a5cb-b70a21c8a2dd"
      },
      "execution_count": 7,
      "outputs": [
        {
          "output_type": "stream",
          "name": "stdout",
          "text": [
            "0.5951040704728554\n"
          ]
        }
      ]
    },
    {
      "cell_type": "markdown",
      "source": [
        "## WEEK 4 GRADED"
      ],
      "metadata": {
        "id": "AIXYpzNeN3An"
      }
    },
    {
      "cell_type": "markdown",
      "source": [
        "Question 1-Graded\n",
        "Write a function k_fold_cv(X) to run 2-fold cross validation repeated 2 times for the array X = [[1, 2], [3, 4], [1, 2], [3, 4]] which will return a concatenated array combining the training and testing dataset. Set random_state=1 in your code. Which of the following options denote the concatenated array?\n",
        "\n",
        "(a) [0 2 1 3]\n",
        "\n",
        "(b) [1 0 3 2]\n",
        "\n",
        "(c) [2 3 0 1]\n",
        "\n",
        "(d) [1 3 1 2]\n",
        "\n",
        "(MCQ) Option 1"
      ],
      "metadata": {
        "id": "LhsuoudgN6PZ"
      }
    },
    {
      "cell_type": "code",
      "source": [
        "import numpy as np\n",
        "import random\n",
        "from sklearn.model_selection import RepeatedKFold\n"
      ],
      "metadata": {
        "id": "NDJ4QoCFRpU5"
      },
      "execution_count": 8,
      "outputs": []
    },
    {
      "cell_type": "code",
      "source": [
        "X = np.array([[1, 2], [3, 4], [1, 2], [3, 4]])\n",
        "\n",
        "def k_fold_cv(X,random_state):\n",
        "  ans = RepeatedKFold(n_splits=2, n_repeats=2, random_state=1)\n",
        "  split = 1\n",
        "  for train, test in ans.split(X):\n",
        "    #print(\"split #%d, %s %s\" % (split, train, test))\n",
        "\n",
        "    split += 1\n",
        "  array1=np.append(train, test)\n",
        "  return array1\n",
        "pass\n",
        "EOP = str(k_fold_cv(X, random_state=1))\n",
        "print(EOP)"
      ],
      "metadata": {
        "colab": {
          "base_uri": "https://localhost:8080/"
        },
        "id": "sXcg-DtGRyne",
        "outputId": "9eea2958-a96f-42c5-d8d6-51e06baa1bf1"
      },
      "execution_count": 13,
      "outputs": [
        {
          "output_type": "stream",
          "name": "stdout",
          "text": [
            "[0 2 1 3]\n"
          ]
        }
      ]
    },
    {
      "cell_type": "markdown",
      "source": [
        "Question 2- Graded\n",
        "Write a code to predict the house price of California Housing dataset using GridSearchCV.\n",
        "\n",
        "Write your code based on the following keypoints:\n",
        "\n",
        "Split the California housing dataset into train and test set with 70:30 ratio with random_state = 1.\n",
        "Import StandardScaler for scaling X_train and X_test to X_train_norm and X_test_norm with_mean = True and with_std = True\n",
        "Import SGDRegressor with random_state = 1\n",
        "Pass SGDRegressor through GridSearchCV\n",
        "Hyperparamter tuning to be done over\n",
        "loss as 'squared_error' or 'huber'\n",
        "penalty as 'l1' or 'l2'\n",
        "alpha as 0.1, 0.01, 0.001\n",
        "maximum number of passes as [1000,2000,5000]\n",
        "Cross Validation = 4\n",
        "Train the 'model' and compute the 'score' on test data\n",
        "Question 1: Enter the value of the 'score'. (Enter your answer in four decimal places)\n",
        "\n",
        "(NAT) Answer: 0.5951 (Range : 0.589-0.599)\n",
        "\n",
        "Question 2: Enter the value of the best alpha obtained.\n",
        "\n",
        "(NAT) Answer: 0.01\n",
        "\n",
        "Question 3: Enter the value of the best maximum number of passes obtained.\n",
        "\n",
        "(NAT) Answer: 1000"
      ],
      "metadata": {
        "id": "qPvh_AouN9p1"
      }
    },
    {
      "cell_type": "code",
      "source": [
        "import numpy as np\n",
        "import sklearn\n",
        "\n",
        "from sklearn.datasets import fetch_california_housing\n",
        "housing = fetch_california_housing()\n",
        "\n",
        "from sklearn.model_selection import train_test_split\n",
        "X_train, X_test, y_train, y_test = train_test_split(housing.data, housing.target, test_size=0.3, random_state=1)"
      ],
      "metadata": {
        "id": "xlpW-K7ES9c9"
      },
      "execution_count": 14,
      "outputs": []
    },
    {
      "cell_type": "code",
      "source": [
        "from sklearn.preprocessing import StandardScaler\n",
        "\n",
        "scaler = StandardScaler(with_mean=True, with_std=True)\n",
        "X_train_norm = scaler.fit_transform(X_train)\n",
        "X_test_norm = scaler.transform(X_test)\n",
        "\n",
        "from sklearn.model_selection import GridSearchCV\n",
        "from sklearn.linear_model import SGDRegressor\n",
        "\n",
        "sgdregressor = SGDRegressor(random_state=1)\n",
        "\n",
        "sgdr_model = GridSearchCV(sgdregressor,\n",
        "                          {'loss':['squared_error', 'huber'],\n",
        "                          'penalty': ['l2','l1'],\n",
        "                          'alpha': [0.1,0.01,0.001],\n",
        "                          'max_iter': [1000,2000,5000]},\n",
        "                          cv=4,\n",
        "                          return_train_score = True)\n",
        "\n",
        "sgdr_model.fit(X_train_norm, y_train)\n",
        "score = sgdr_model.score(X_test_norm, y_test)\n",
        "score\n",
        "\n",
        "\n",
        "\n"
      ],
      "metadata": {
        "colab": {
          "base_uri": "https://localhost:8080/"
        },
        "id": "WygR34nOTk9L",
        "outputId": "f6b84e58-baa8-4f16-98f0-b346ceebeeb1"
      },
      "execution_count": 16,
      "outputs": [
        {
          "output_type": "execute_result",
          "data": {
            "text/plain": [
              "0.5951040704728554"
            ]
          },
          "metadata": {},
          "execution_count": 16
        }
      ]
    },
    {
      "cell_type": "code",
      "source": [
        "sgdr_model.best_params_"
      ],
      "metadata": {
        "colab": {
          "base_uri": "https://localhost:8080/"
        },
        "id": "A6nIdiMSVRsA",
        "outputId": "9080212a-f350-4151-f54b-406cc59996a5"
      },
      "execution_count": 17,
      "outputs": [
        {
          "output_type": "execute_result",
          "data": {
            "text/plain": [
              "{'alpha': 0.01, 'loss': 'squared_error', 'max_iter': 1000, 'penalty': 'l1'}"
            ]
          },
          "metadata": {},
          "execution_count": 17
        }
      ]
    },
    {
      "cell_type": "markdown",
      "source": [
        "Question 3- Graded\n",
        "Write a code to predict the house price of California Housing dataset using GridSearchCV.\n",
        "\n",
        "Write your code based on the following keypoints:\n",
        "\n",
        "Split the California housing dataset into train and test set with 70:30 ratio with random_state = 1.\n",
        "Import StandardScaler for scaling X_train and X_test to X_train_norm and X_test_norm with_mean = True and with_std = True\n",
        "Pass Ridge Regression Model through GridSearchCV\n",
        "Hyperparamter tuning to be done over\n",
        "alpha as 0.5,0.1,0.05,0.01,0.005,0.001\n",
        "With or without intercept\n",
        "Cross Validation = 4\n",
        "Train the 'model' and compute the 'score' on test data\n",
        "Question 1: Enter the value of the 'score'. (Enter your answer in four decimal places)\n",
        "\n",
        "(NAT) Answer: 0.5971 (Range: 0.5970-0.5980)\n",
        "\n",
        "Question 2: Enter the value of the best alpha obtained.\n",
        "\n",
        "(NAT) Answer: 0.5"
      ],
      "metadata": {
        "id": "OFwOoMHHOASl"
      }
    },
    {
      "cell_type": "code",
      "source": [
        "import numpy as np\n",
        "import sklearn\n",
        "\n",
        "from sklearn.datasets import fetch_california_housing\n",
        "housing = fetch_california_housing()\n",
        "\n",
        "from sklearn.model_selection import train_test_split\n",
        "X_train, X_test, y_train, y_test = train_test_split(housing.data, housing.target, test_size=0.3, random_state=1)"
      ],
      "metadata": {
        "id": "0BtPsJgKVXam"
      },
      "execution_count": 18,
      "outputs": []
    },
    {
      "cell_type": "code",
      "source": [
        "def compute_score(X_train, y_train, X_test, y_test):\n",
        "  from sklearn.preprocessing import StandardScaler\n",
        "  scaler = StandardScaler(with_mean=True, with_std=True)\n",
        "  X_train_norm = scaler.fit_transform(X_train)\n",
        "  X_test_norm = scaler.transform(X_test)\n",
        "\n",
        "  from sklearn.model_selection import GridSearchCV\n",
        "  from sklearn.linear_model import Ridge\n",
        "\n",
        "  ridge = Ridge()\n",
        "  ridge_model = GridSearchCV(ridge,\n",
        "                             {'fit_intercept': [True,False],\n",
        "                              'alpha': [0.5,0.1,0.05,0.01,0.005,0.001]\n",
        "                              },\n",
        "                             cv=4,\n",
        "                             )\n",
        "\n",
        "  ridge_model.fit(X_train_norm, y_train)\n",
        "  score = ridge_model.score(X_test_norm, y_test)\n",
        "  print(ridge_model.best_params_)\n",
        "  return score\n"
      ],
      "metadata": {
        "id": "kN6QJFqJWGCm"
      },
      "execution_count": 21,
      "outputs": []
    },
    {
      "cell_type": "code",
      "source": [
        "score = compute_score(X_train, y_train, X_test, y_test)\n",
        "print(score)"
      ],
      "metadata": {
        "colab": {
          "base_uri": "https://localhost:8080/"
        },
        "id": "j6Z8zVNgXbD6",
        "outputId": "4f766775-31d4-4a0f-9a4d-020da6cc6162"
      },
      "execution_count": 22,
      "outputs": [
        {
          "output_type": "stream",
          "name": "stdout",
          "text": [
            "{'alpha': 0.5, 'fit_intercept': True}\n",
            "0.5971450612248769\n"
          ]
        }
      ]
    },
    {
      "cell_type": "markdown",
      "source": [
        "Question 4- Graded\n",
        "Write a code to predict the house price of California Housing dataset using GridSearchCV.\n",
        "\n",
        "Write your code based on the following keypoints:\n",
        "\n",
        "Split the California housing dataset into train and test set with 60:40 ratio with random_state = 1.\n",
        "Import StandardScaler for scaling X_train and X_test to X_train_norm and X_test_norm with_mean = True and with_std = True\n",
        "Pass Lasso Model through GridSearchCV\n",
        "Hyperparamter tuning to be done over\n",
        "alpha as 0.5,0.1,0.05,0.01,0.005,0.001\n",
        "With or without intercept\n",
        "Cross Validation = 6\n",
        "Train the 'model' and compute the 'score' on test data\n",
        "Question 1: (Multiple select)\n",
        "\n",
        "Which of the following is the 'score' computed by your code?\n",
        "\n",
        "(a) 0.6065831805608592\n",
        "\n",
        "(b) 0.806583116745592\n",
        "\n",
        "(c) 0.1224876959714506\n",
        "\n",
        "(d) 0.1214876325845632\n",
        "\n",
        "(MCQ) Answer: (Option a)\n",
        "\n",
        "Question 2: Enter the value of the best alpha obtained.\n",
        "\n",
        "(NAT) Answer: 0.001"
      ],
      "metadata": {
        "id": "jWsefm0iOCfE"
      }
    },
    {
      "cell_type": "code",
      "source": [
        "import numpy as np\n",
        "import sklearn\n",
        "\n",
        "from sklearn.datasets import fetch_california_housing\n",
        "housing = fetch_california_housing()\n",
        "\n",
        "from sklearn.model_selection import train_test_split\n",
        "X_train, X_test, y_train, y_test = train_test_split(housing.data, housing.target, test_size=0.4, random_state=1 )"
      ],
      "metadata": {
        "id": "mvaPnvBJXxcw"
      },
      "execution_count": 24,
      "outputs": []
    },
    {
      "cell_type": "code",
      "source": [
        "def compute_score(X_train, y_train, X_test, y_test):\n",
        "  from sklearn.preprocessing import StandardScaler\n",
        "  scaler = StandardScaler(with_mean=True, with_std=True)\n",
        "  X_train_norm = scaler.fit_transform(X_train)\n",
        "  X_test_norm = scaler.transform(X_test)\n",
        "\n",
        "  from sklearn.model_selection import RandomizedSearchCV\n",
        "  from sklearn.linear_model import Lasso\n",
        "\n",
        "  lasso_model = Lasso()\n",
        "  lasso_model = RandomizedSearchCV(lasso_model,\n",
        "                                   {'fit_intercept': [True,False],\n",
        "                                    'alpha': [1,0.1,0.01,0.001]\n",
        "                                    },\n",
        "                                   cv=6,\n",
        "                                   )\n",
        "\n",
        "  lasso_model.fit(X_train_norm, y_train)\n",
        "  score = lasso_model.score(X_test_norm, y_test)\n",
        "  print(lasso_model.best_params_)\n",
        "  return score\n",
        "  pass"
      ],
      "metadata": {
        "id": "bK2JnRSRYUO5"
      },
      "execution_count": 25,
      "outputs": []
    },
    {
      "cell_type": "code",
      "source": [
        "score = compute_score(X_train, y_train, X_test, y_test)\n",
        "print(score)"
      ],
      "metadata": {
        "colab": {
          "base_uri": "https://localhost:8080/"
        },
        "id": "C6mw17N2ZkUD",
        "outputId": "b3a50f6d-77fd-468a-d4d4-bdcdb19b4f73"
      },
      "execution_count": 26,
      "outputs": [
        {
          "output_type": "stream",
          "name": "stderr",
          "text": [
            "/usr/local/lib/python3.10/dist-packages/sklearn/model_selection/_search.py:305: UserWarning: The total space of parameters 8 is smaller than n_iter=10. Running 8 iterations. For exhaustive searches, use GridSearchCV.\n",
            "  warnings.warn(\n"
          ]
        },
        {
          "output_type": "stream",
          "name": "stdout",
          "text": [
            "{'fit_intercept': True, 'alpha': 0.001}\n",
            "0.6065831805608592\n"
          ]
        }
      ]
    }
  ]
}