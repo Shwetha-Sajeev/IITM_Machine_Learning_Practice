{
  "nbformat": 4,
  "nbformat_minor": 0,
  "metadata": {
    "colab": {
      "provenance": []
    },
    "kernelspec": {
      "name": "python3",
      "display_name": "Python 3"
    },
    "language_info": {
      "name": "python"
    }
  },
  "cells": [
    {
      "cell_type": "markdown",
      "source": [
        "Practice Questions 1-2\n",
        "Load the wine dataset from sklearn.\n",
        "\n",
        "Split the dataset into train and test set with 70:30 ratio with random_state = 1.\n",
        "Use AdaBoostClassifier with random_state = 1 (other values being default).\n",
        "Train the 'model' and compute the 'score' on training data and test data\n",
        "Question 1: Enter the value of the 'score' on training set.\n",
        "\n",
        "(NAT) Answer: 0.6774 (Range : 0.67 - 0.68)\n",
        "\n",
        "Question 2: Enter the value of the 'score' on testing set.\n",
        "\n",
        "(NAT) Answer: 0.5370(Range : 0.53 - 0.54)"
      ],
      "metadata": {
        "id": "4BgFZDN7utjQ"
      }
    },
    {
      "cell_type": "code",
      "source": [
        "import numpy as np\n",
        "import sklearn\n",
        "import pandas as pd\n",
        "\n",
        "from sklearn.datasets import load_wine\n",
        "df = load_wine()\n",
        "\n",
        "from sklearn.model_selection import train_test_split\n",
        "X_train,X_test, y_train, y_test = train_test_split(df.data, df.target, test_size=0.3, random_state=1)"
      ],
      "metadata": {
        "id": "5MKtxBajvHYF"
      },
      "execution_count": 1,
      "outputs": []
    },
    {
      "cell_type": "code",
      "source": [
        "from sklearn.ensemble import AdaBoostClassifier\n",
        "model = AdaBoostClassifier(random_state=1)\n",
        "model.fit(X_train, y_train)\n",
        "\n",
        "print('Score on training set is:', model.score(X_train, y_train))\n",
        "print('Score on testing set is:', model.score(X_test, y_test))"
      ],
      "metadata": {
        "colab": {
          "base_uri": "https://localhost:8080/"
        },
        "id": "4I6iBY2uvmsc",
        "outputId": "bc041003-3658-4280-caa9-f2351893498a"
      },
      "execution_count": 2,
      "outputs": [
        {
          "output_type": "stream",
          "name": "stdout",
          "text": [
            "Score on training set is: 0.6774193548387096\n",
            "Score on testing set is: 0.5370370370370371\n"
          ]
        }
      ]
    },
    {
      "cell_type": "markdown",
      "source": [
        "Practice Questions 3-5\n",
        "Load the wine dataset from sklearn.\n",
        "\n",
        "Split the dataset into train and test set with 70:30 ratio with random_state = 1.\n",
        "Use AdaBoostClassifier with random_state = 1 (other values being default).\n",
        "Perform Hyperparameter tuning using GridSearchCV over the following:\n",
        "Use n_estimators as [100,500,1000]\n",
        "Use learning_rate as [0.5,1,2]\n",
        "Train the 'model' and compute the 'score' on training data and test data\n",
        "Question 3: Enter the value of the 'score' on testing set.\n",
        "\n",
        "(NAT)\n",
        "\n",
        "Answer: 0.9629 (Range : 0.96-0.97)\n",
        "\n",
        "Question 4: Enter the value of best n_estimators of the model after training with GridSearchCV\n",
        "\n",
        "(NAT)\n",
        "\n",
        "Answer: 100\n",
        "\n",
        "Question 5: Enter the value of best learning_rate of the model after training with GridSearchCV\n",
        "\n",
        "(NAT)\n",
        "\n",
        "Answer: 0.5"
      ],
      "metadata": {
        "id": "XEDJjtMXuwoo"
      }
    },
    {
      "cell_type": "code",
      "source": [
        "import numpy as np\n",
        "import sklearn\n",
        "import pandas as pd\n",
        "\n",
        "from sklearn.datasets import load_wine\n",
        "df = load_wine()\n",
        "\n",
        "from sklearn.model_selection import train_test_split\n",
        "X_train, X_test, y_train, y_test = train_test_split(df.data, df.target, test_size=0.3, random_state=1)"
      ],
      "metadata": {
        "id": "A_61xUlCwgLU"
      },
      "execution_count": 3,
      "outputs": []
    },
    {
      "cell_type": "code",
      "source": [
        "from sklearn.model_selection import GridSearchCV\n",
        "from sklearn.ensemble import AdaBoostClassifier\n",
        "\n",
        "model = AdaBoostClassifier(random_state=1)\n",
        "\n",
        "model_grid = GridSearchCV(model,\n",
        "                          {'n_estimators': [100,500,1000],\n",
        "                           'learning_rate': [0.5,1,2]\n",
        "                           },\n",
        "                          cv=4,\n",
        "                          return_train_score=True)\n",
        "\n",
        "model_grid.fit(X_train, y_train)\n",
        "print(model_grid.score(X_train, y_train))\n",
        "print(model_grid.score(X_test, y_test))\n",
        "print(model_grid.best_params_)\n"
      ],
      "metadata": {
        "colab": {
          "base_uri": "https://localhost:8080/"
        },
        "id": "qY1gT84Aw_Wy",
        "outputId": "c408b3e3-8fb1-4035-98a2-3ce735bd7855"
      },
      "execution_count": 4,
      "outputs": [
        {
          "output_type": "stream",
          "name": "stdout",
          "text": [
            "1.0\n",
            "0.9629629629629629\n",
            "{'learning_rate': 0.5, 'n_estimators': 100}\n"
          ]
        }
      ]
    },
    {
      "cell_type": "markdown",
      "source": [
        "Practice Questions 6-7\n",
        "Write a code to predict the score on the training set and the testing set using Voting Classifier on wine dataset Write your code based on the following keypoints:\n",
        "\n",
        "Split the dataset into train and test set with 70:30 ratio with random_state = 1.\n",
        "Import model. Keep estimators as BaggingClassifier, Random Forest, GradientBoosting Classifier with random_state = 1\n",
        "Train the 'model' and compute the 'score' on training data and test data\n",
        "Question 6: Enter the value of the 'score' on training set. (Enter your answer in four decimal places)\n",
        "\n",
        "(NAT) Answer: 1.0 (Range : 0.99 - 1.00)\n",
        "\n",
        "Question 7: Enter the value of the 'score' on testing set. (Enter your answer in four decimal places)\n",
        "\n",
        "(NAT) Answer: 0.9815 (Range : 0.975 - 0.985)"
      ],
      "metadata": {
        "id": "nmz3foMWuzhz"
      }
    },
    {
      "cell_type": "code",
      "source": [
        "import numpy as np\n",
        "import sklearn\n",
        "import pandas as pd\n",
        "\n",
        "from sklearn.datasets import load_wine\n",
        "df = load_wine()\n",
        "\n",
        "from sklearn.model_selection import train_test_split\n",
        "X_train, X_test, y_train, y_test = train_test_split(df.data, df.target, test_size=0.3, random_state=1)"
      ],
      "metadata": {
        "id": "MvDfOLaWyCOy"
      },
      "execution_count": 5,
      "outputs": []
    },
    {
      "cell_type": "code",
      "source": [
        "from sklearn.ensemble import BaggingClassifier\n",
        "from sklearn.ensemble import RandomForestClassifier\n",
        "from sklearn.ensemble import GradientBoostingClassifier\n",
        "from sklearn.ensemble import VotingClassifier\n",
        "clf1 = BaggingClassifier(random_state=1)\n",
        "clf2 = RandomForestClassifier(random_state=1)\n",
        "clf3 = GradientBoostingClassifier(random_state=1)\n",
        "\n",
        "model = VotingClassifier(estimators=[('bc',clf1),('rf',clf2),('gb',clf3)])\n",
        "model.fit(X_train, y_train)\n",
        "\n",
        "print('Score on training set is:', model.score(X_train, y_train))\n",
        "print('Score on testing set is:', model.score(X_test, y_test))"
      ],
      "metadata": {
        "colab": {
          "base_uri": "https://localhost:8080/"
        },
        "id": "PXIVn0xEyf0j",
        "outputId": "44e8a448-75af-46c4-b603-166b6cf9d503"
      },
      "execution_count": 7,
      "outputs": [
        {
          "output_type": "stream",
          "name": "stdout",
          "text": [
            "Score on training set is: 1.0\n",
            "Score on testing set is: 0.9814814814814815\n"
          ]
        }
      ]
    },
    {
      "cell_type": "markdown",
      "source": [
        "## WEEK 8 GRADED"
      ],
      "metadata": {
        "id": "2EEJECAIu3WF"
      }
    },
    {
      "cell_type": "markdown",
      "source": [
        "Preamble (To be added on top of graded assignment.)\n",
        "Load Used Cars Price Prediction dataset available at following https://drive.google.com/uc?export=download&id=1tKqddJuIiRqrm7ml2qyVGJlAW3JQjaZX"
      ],
      "metadata": {
        "id": "UjnTF062u2A1"
      }
    },
    {
      "cell_type": "markdown",
      "source": [
        "Graded Questions 1-4\n",
        "Load the used cars' dataset.\n",
        "\n",
        "The target variable is 'MSRP'.\n",
        "\n",
        "Remove the rows that contain NULL values.\n",
        "Drop 'Invoice' feature.\n",
        "Preprocess to remove comma and dollar sign from MSRP (and cast its type as integer).\n",
        "Use Pandas.get_dummies() on the categorical features : 'Make','Model','Type','Origin', 'DriveTrain'\n",
        "Split the data into X and y and then train and test subsets using 70:30 ratio with random_state = 1.\n",
        "Train the model using the following (All with default values and random_state = 1):\n",
        "BaggingRegressor\n",
        "RandomForestRegressor\n",
        "GradientBoostingRegressor\n",
        "AdaBoostRegressor\n",
        "Question 1: Enter the value of the 'score' on testing set using BaggingRegressor.\n",
        "\n",
        "(NAT) Answer: 0.7949 (Range : 0.79 - 0.80)\n",
        "\n",
        "Question 2: Enter the value of the 'score' on testing set using RandomForestRegressor.\n",
        "\n",
        "(NAT) Answer: 0.8369 (Range : 0.8310 - 0.8410)\n",
        "\n",
        "Question 3: Enter the value of the 'score' on testing set using GradientBoostingRegressor.\n",
        "\n",
        "(NAT) Answer: 0.8270 (Range : 0.821 - 0.831)\n",
        "\n",
        "Question 4: Enter the value of the 'score' on testing set using AdaBoostRegressor.\n",
        "\n",
        "(NAT) Answer: 0.7119 (Range : 0.706 - 0.716)"
      ],
      "metadata": {
        "id": "CwZ2VCcTu7qA"
      }
    },
    {
      "cell_type": "code",
      "source": [
        "# importing libraries\n",
        "import numpy as np\n",
        "import sklearn\n",
        "import pandas as pd\n",
        "\n",
        "# loading and preprocessing the data\n",
        "car_df = pd.read_csv('/content/cars_data (2).csv')\n",
        "car_df = car_df.dropna()\n",
        "\n"
      ],
      "metadata": {
        "id": "oUUqnY4Ezx-p"
      },
      "execution_count": 23,
      "outputs": []
    },
    {
      "cell_type": "code",
      "source": [
        "car_df = car_df.drop('Invoice', axis = 1)\n",
        "\n",
        "car_df['MSRP'] = car_df[\"MSRP\"].str.replace(\"$\", \"\")\n",
        "car_df['MSRP'] = car_df[\"MSRP\"].str.replace(\",\", \"\")\n",
        "car_df['MSRP'] = car_df[\"MSRP\"].astype(int)\n",
        "\n",
        "\n",
        "car_df = pd.get_dummies(car_df, columns = ['Make','Model','Type','Origin', 'DriveTrain'])\n",
        "\n",
        "\n",
        "X = car_df.drop(\"MSRP\", axis = 1)\n",
        "y = car_df[\"MSRP\"]\n",
        "\n",
        "print(X.shape)\n",
        "print(y.shape)\n",
        "print(X.head())\n",
        "\n",
        "#Spliting the data\n",
        "from sklearn.model_selection import train_test_split\n",
        "X_train, X_test, y_train, y_test = train_test_split(X,y, test_size=0.3, random_state = 1)"
      ],
      "metadata": {
        "colab": {
          "base_uri": "https://localhost:8080/"
        },
        "id": "Mu7kA5mm0PSG",
        "outputId": "0f07224b-fc7c-4ecd-83e6-3edf9664c520"
      },
      "execution_count": 24,
      "outputs": [
        {
          "output_type": "stream",
          "name": "stdout",
          "text": [
            "(426, 481)\n",
            "(426,)\n",
            "   EngineSize  Cylinders  Horsepower  MPG_City  MPG_Highway  Weight  \\\n",
            "0         3.5        6.0         265        17           23    4451   \n",
            "1         2.0        4.0         200        24           31    2778   \n",
            "2         2.4        4.0         200        22           29    3230   \n",
            "3         3.2        6.0         270        20           28    3575   \n",
            "4         3.5        6.0         225        18           24    3880   \n",
            "\n",
            "   Wheelbase  Length  Make_Acura  Make_Audi  ...  Type_Sedan  Type_Sports  \\\n",
            "0        106     189           1          0  ...           0            0   \n",
            "1        101     172           1          0  ...           1            0   \n",
            "2        105     183           1          0  ...           1            0   \n",
            "3        108     186           1          0  ...           1            0   \n",
            "4        115     197           1          0  ...           1            0   \n",
            "\n",
            "   Type_Truck  Type_Wagon  Origin_Asia  Origin_Europe  Origin_USA  \\\n",
            "0           0           0            1              0           0   \n",
            "1           0           0            1              0           0   \n",
            "2           0           0            1              0           0   \n",
            "3           0           0            1              0           0   \n",
            "4           0           0            1              0           0   \n",
            "\n",
            "   DriveTrain_All  DriveTrain_Front  DriveTrain_Rear  \n",
            "0               1                 0                0  \n",
            "1               0                 1                0  \n",
            "2               0                 1                0  \n",
            "3               0                 1                0  \n",
            "4               0                 1                0  \n",
            "\n",
            "[5 rows x 481 columns]\n"
          ]
        },
        {
          "output_type": "stream",
          "name": "stderr",
          "text": [
            "<ipython-input-24-41f080299d51>:3: FutureWarning: The default value of regex will change from True to False in a future version. In addition, single character regular expressions will *not* be treated as literal strings when regex=True.\n",
            "  car_df['MSRP'] = car_df[\"MSRP\"].str.replace(\"$\", \"\")\n"
          ]
        }
      ]
    },
    {
      "cell_type": "code",
      "source": [
        "from sklearn.ensemble import BaggingRegressor\n",
        "model = BaggingRegressor(random_state=1)\n",
        "model.fit(X_train, y_train)\n",
        "print('Score on training set is:', model.score(X_train, y_train))\n",
        "print('Score on testing set is:', model.score(X_test, y_test))\n",
        "\n",
        "from sklearn.ensemble import RandomForestRegressor\n",
        "model = RandomForestRegressor(random_state=1)\n",
        "model.fit(X_train, y_train)\n",
        "print('Score on training set is:', model.score(X_train, y_train))\n",
        "print('Score on testing set is:', model.score(X_test, y_test))\n",
        "\n",
        "from sklearn.ensemble import GradientBoostingRegressor\n",
        "model = GradientBoostingRegressor(random_state=1)\n",
        "model.fit(X_train, y_train)\n",
        "print('Score on training set is:', model.score(X_train, y_train))\n",
        "print('Score on testing set is:', model.score(X_test, y_test))\n",
        "\n",
        "from sklearn.ensemble import BaggingRegressor\n",
        "model = BaggingRegressor(random_state=1)\n",
        "model.fit(X_train, y_train)\n",
        "print('Score on training set is:', model.score(X_train, y_train))\n",
        "print('Score on testing set is:', model.score(X_test, y_test))\n",
        "\n",
        "from sklearn.ensemble import AdaBoostRegressor\n",
        "model = AdaBoostRegressor(random_state=1)\n",
        "model.fit(X_train, y_train)\n",
        "print('Score on training set is:', model.score(X_train, y_train))\n",
        "print('Score on testing set is:', model.score(X_test, y_test))"
      ],
      "metadata": {
        "colab": {
          "base_uri": "https://localhost:8080/"
        },
        "id": "MTFO_N4k1tEo",
        "outputId": "bb7e5d46-8c49-4e9c-acca-6f1d367abe8d"
      },
      "execution_count": 25,
      "outputs": [
        {
          "output_type": "stream",
          "name": "stdout",
          "text": [
            "Score on training set is: 0.9567015457407546\n",
            "Score on testing set is: 0.7949163237522345\n",
            "Score on training set is: 0.978182315656497\n",
            "Score on testing set is: 0.8369440882741959\n",
            "Score on training set is: 0.9841884742397355\n",
            "Score on testing set is: 0.8270485242007507\n",
            "Score on training set is: 0.9567015457407546\n",
            "Score on testing set is: 0.7949163237522345\n",
            "Score on training set is: 0.9008410947504886\n",
            "Score on testing set is: 0.711903287964231\n"
          ]
        }
      ]
    },
    {
      "cell_type": "markdown",
      "source": [
        "Graded Questions 5-7\n",
        "On the same data set, perform the preprocessing stated in the previous questions, and perform Hyperparameter Tuning using GridSearchCV on AdaBoostRegressor. Use random_state to be 1.\n",
        "\n",
        "Hyperparameter tuning to be done over:\n",
        "\n",
        "Use n_estimators as [100,500,1000]\n",
        "Use learning_rate as [0.5,1,2]\n",
        "Train the 'model' and compute the 'score' on the test data.\n",
        "\n",
        "Question 5: Enter the value of the 'score' on testing set.\n",
        "\n",
        "(NAT) Answer: 0.9085 (Range : 0.90 - 0.91)\n",
        "\n",
        "Question 6: Enter the value of best n_estimators of the model after training with GridSearchCV\n",
        "\n",
        "(NAT) Answer: 1000\n",
        "\n",
        "Question 7: Enter the value of best learning_rate of the model after training with GridSearchCV\n",
        "\n",
        "(NAT) Answer: 1"
      ],
      "metadata": {
        "id": "cqUYgnvju-Ts"
      }
    },
    {
      "cell_type": "code",
      "source": [
        "# importing libraries\n",
        "import numpy as np\n",
        "import sklearn\n",
        "import pandas as pd\n",
        "\n",
        "# loading and preprocessing the data\n",
        "car_df = pd.read_csv('/content/cars_data (2).csv')\n",
        "car_df = car_df.dropna()"
      ],
      "metadata": {
        "id": "HrOh-3N53Epc"
      },
      "execution_count": 26,
      "outputs": []
    },
    {
      "cell_type": "code",
      "source": [
        "car_df = car_df.drop('Invoice', axis=1)\n",
        "car_df['MSRP'] = car_df['MSRP'].str.replace('$',\"\")\n",
        "car_df['MSRP'] = car_df['MSRP'].str.replace(',',\"\")\n",
        "car_df['MSRP'] = car_df['MSRP'].astype(int)\n",
        "\n",
        "car_df = pd.get_dummies(car_df, columns=['Make','Model','Type','Origin','DriveTrain'])\n",
        "X = car_df.drop(\"MSRP\", axis=1)\n",
        "y = car_df[\"MSRP\"]\n",
        "\n",
        "print(X.shape)\n",
        "print(y.shape)\n",
        "print(X.head())\n",
        "\n",
        "# splitting the data\n",
        "from sklearn.model_selection import train_test_split\n",
        "X_train,X_test, y_train, y_test = train_test_split(X,y, test_size=0.3, random_state=1)"
      ],
      "metadata": {
        "colab": {
          "base_uri": "https://localhost:8080/"
        },
        "id": "DkoZ71o03Io8",
        "outputId": "dad4da45-35e1-437e-da56-61d99da86b3f"
      },
      "execution_count": 27,
      "outputs": [
        {
          "output_type": "stream",
          "name": "stdout",
          "text": [
            "(426, 481)\n",
            "(426,)\n",
            "   EngineSize  Cylinders  Horsepower  MPG_City  MPG_Highway  Weight  \\\n",
            "0         3.5        6.0         265        17           23    4451   \n",
            "1         2.0        4.0         200        24           31    2778   \n",
            "2         2.4        4.0         200        22           29    3230   \n",
            "3         3.2        6.0         270        20           28    3575   \n",
            "4         3.5        6.0         225        18           24    3880   \n",
            "\n",
            "   Wheelbase  Length  Make_Acura  Make_Audi  ...  Type_Sedan  Type_Sports  \\\n",
            "0        106     189           1          0  ...           0            0   \n",
            "1        101     172           1          0  ...           1            0   \n",
            "2        105     183           1          0  ...           1            0   \n",
            "3        108     186           1          0  ...           1            0   \n",
            "4        115     197           1          0  ...           1            0   \n",
            "\n",
            "   Type_Truck  Type_Wagon  Origin_Asia  Origin_Europe  Origin_USA  \\\n",
            "0           0           0            1              0           0   \n",
            "1           0           0            1              0           0   \n",
            "2           0           0            1              0           0   \n",
            "3           0           0            1              0           0   \n",
            "4           0           0            1              0           0   \n",
            "\n",
            "   DriveTrain_All  DriveTrain_Front  DriveTrain_Rear  \n",
            "0               1                 0                0  \n",
            "1               0                 1                0  \n",
            "2               0                 1                0  \n",
            "3               0                 1                0  \n",
            "4               0                 1                0  \n",
            "\n",
            "[5 rows x 481 columns]\n"
          ]
        },
        {
          "output_type": "stream",
          "name": "stderr",
          "text": [
            "<ipython-input-27-0a37ba6edbf2>:2: FutureWarning: The default value of regex will change from True to False in a future version. In addition, single character regular expressions will *not* be treated as literal strings when regex=True.\n",
            "  car_df['MSRP'] = car_df['MSRP'].str.replace('$',\"\")\n"
          ]
        }
      ]
    },
    {
      "cell_type": "code",
      "source": [
        "from sklearn.model_selection import GridSearchCV\n",
        "from sklearn.ensemble import AdaBoostRegressor\n",
        "model = AdaBoostRegressor(random_state=1)\n",
        "modelgrid = GridSearchCV(model,\n",
        "                         {'n_estimators': [100,500,1000],\n",
        "                          'learning_rate': [0.5,1,2]\n",
        "                          },\n",
        "                         cv=4,\n",
        "                         return_train_score=True)\n",
        "\n",
        "modelgrid.fit(X_train,y_train)\n",
        "print(modelgrid.score(X_train, y_train))\n",
        "print(modelgrid.score(X_test, y_test))\n",
        "print(modelgrid.best_params_)"
      ],
      "metadata": {
        "colab": {
          "base_uri": "https://localhost:8080/"
        },
        "id": "8IFf2DB03cYi",
        "outputId": "8271e7f0-d87f-4cca-f370-6334547321c3"
      },
      "execution_count": 28,
      "outputs": [
        {
          "output_type": "stream",
          "name": "stdout",
          "text": [
            "0.9084901949117243\n",
            "0.7130800769863186\n",
            "{'learning_rate': 1, 'n_estimators': 1000}\n"
          ]
        }
      ]
    }
  ]
}