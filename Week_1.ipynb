{
  "nbformat": 4,
  "nbformat_minor": 0,
  "metadata": {
    "colab": {
      "provenance": []
    },
    "kernelspec": {
      "name": "python3",
      "display_name": "Python 3"
    },
    "language_info": {
      "name": "python"
    }
  },
  "cells": [
    {
      "cell_type": "markdown",
      "source": [
        "## WEEK 1 PRACTICE"
      ],
      "metadata": {
        "id": "Z6VvuwNcPiCj"
      }
    },
    {
      "cell_type": "markdown",
      "source": [
        "Question 1\n",
        "\n",
        "Which of the following options are the class names in the iris dataset?\n",
        "\n",
        "(a) ['sepal length (cm)', 'sepal width (cm)', 'petal length (cm)', 'petal width (cm)']\n",
        "\n",
        "(b) ['setosa' 'versicolor' 'virginica']\n",
        "\n",
        "(c) ['setosa' 'virginica']\n",
        "\n",
        "(d) ['sepal length (cm)', 'petal length (cm)', 'petal width (cm)']\n",
        "\n",
        "Correct Answer: Option 2\n",
        "(1 marks)"
      ],
      "metadata": {
        "id": "XVVteBEtPshu"
      }
    },
    {
      "cell_type": "code",
      "source": [
        "from sklearn.datasets import load_iris\n",
        "data = load_iris()\n",
        "print(data.feature_names)\n",
        "print(data.target_names)"
      ],
      "metadata": {
        "colab": {
          "base_uri": "https://localhost:8080/"
        },
        "id": "TI66k8C-PyPB",
        "outputId": "767e78f5-2659-4032-ab5b-cf60d52d47d4"
      },
      "execution_count": 5,
      "outputs": [
        {
          "output_type": "stream",
          "name": "stdout",
          "text": [
            "['sepal length (cm)', 'sepal width (cm)', 'petal length (cm)', 'petal width (cm)']\n",
            "['setosa' 'versicolor' 'virginica']\n"
          ]
        }
      ]
    },
    {
      "cell_type": "markdown",
      "source": [
        "Question 2\n",
        "\n",
        "Generate 200 samples with 10 features for multiple regression problem with 10 outputs and find the shapes of the feature matrix and the label vector.\n",
        "\n",
        "(a) Feature matrix shape: (200,10), label vector shape: (200,10)\n",
        "\n",
        "(b) Feature matrix shape: (10,200), label vector shape: (10,200)\n",
        "\n",
        "(c) Feature matrix shape: (200,200), label vector shape: (10,10)\n",
        "\n",
        "(d) Feature matrix shape: (10,10), label vector shape: (200,200)\n",
        "\n",
        "Correct Answer: Option 1\n",
        "\n",
        "(1 Marks)"
      ],
      "metadata": {
        "id": "7OJPVIuDQqRJ"
      }
    },
    {
      "cell_type": "code",
      "source": [
        "from sklearn.datasets import make_regression\n",
        "# ?make_regression\n",
        "\n",
        "x,y = make_regression(n_samples=200, n_features=10, n_targets=10, shuffle=True)\n",
        "print(x.shape)\n",
        "print(y.shape)"
      ],
      "metadata": {
        "colab": {
          "base_uri": "https://localhost:8080/"
        },
        "id": "k-GYp5XIQpcp",
        "outputId": "1bdfdb05-6223-4250-94ef-502326a18392"
      },
      "execution_count": 6,
      "outputs": [
        {
          "output_type": "stream",
          "name": "stdout",
          "text": [
            "(200, 10)\n",
            "(200, 10)\n"
          ]
        }
      ]
    },
    {
      "cell_type": "markdown",
      "source": [
        "Question 3\n",
        "\n",
        "Find the shapes of the feature matrix and the label vector for a multilabel classification problem with 200 samples, 10 features, 7 labels and on an average 3 labels per example.\n",
        "\n",
        "(a) Feature matrix: (200,10), Label vector: (200,7)\n",
        "\n",
        "(b) Feature matrix: (200,200), Label vector: (10,7)\n",
        "\n",
        "(c) Feature matrix: (200,7), Label vector: (200,10)\n",
        "\n",
        "(d)Feature matrix: (199,9), Label vector: (199,6)\n",
        "\n",
        "Correct Answer: Option 1\n",
        "\n",
        "(1 Marks)"
      ],
      "metadata": {
        "id": "CuG9TqCTROu6"
      }
    },
    {
      "cell_type": "code",
      "source": [
        "from sklearn.datasets import make_multilabel_classification\n",
        "x,y = make_multilabel_classification(n_samples=200, n_features=10, n_classes=7, n_labels=3)\n",
        "print(x.shape)\n",
        "print(y.shape)\n",
        "print(x[:10])\n",
        "print(y[:10])"
      ],
      "metadata": {
        "colab": {
          "base_uri": "https://localhost:8080/"
        },
        "id": "oj8N61bFRX18",
        "outputId": "1adadc8a-700a-4fd8-a931-6d1507f7295d"
      },
      "execution_count": 7,
      "outputs": [
        {
          "output_type": "stream",
          "name": "stdout",
          "text": [
            "(200, 10)\n",
            "(200, 7)\n",
            "[[ 3.  2.  5.  8.  4.  4.  2.  3.  4. 10.]\n",
            " [ 8.  9.  5.  6.  6.  4.  2.  2.  3.  6.]\n",
            " [ 6.  1.  4.  7.  6.  3.  2.  6.  7.  4.]\n",
            " [ 2.  4.  6.  5.  6.  9.  2.  4.  6.  5.]\n",
            " [ 8.  1.  0. 13.  4.  2.  1.  3.  7.  8.]\n",
            " [ 3.  9.  4.  2.  3.  7.  3.  5.  1.  7.]\n",
            " [11.  4.  0.  8.  5.  2.  5.  2.  6.  6.]\n",
            " [ 6.  1.  6.  6.  5.  5.  0.  5.  5.  8.]\n",
            " [17.  3.  6.  0.  9.  5.  3.  4. 10. 10.]\n",
            " [ 2.  5.  7. 17.  7.  0.  0. 10.  7.  1.]]\n",
            "[[0 0 0 1 1 0 1]\n",
            " [0 0 1 0 1 0 0]\n",
            " [0 1 1 1 0 0 1]\n",
            " [0 0 1 0 1 0 0]\n",
            " [0 0 0 1 0 0 0]\n",
            " [1 0 0 0 1 0 0]\n",
            " [0 0 1 1 0 0 0]\n",
            " [1 1 1 1 1 0 1]\n",
            " [1 0 1 0 0 0 0]\n",
            " [0 1 0 0 0 0 0]]\n"
          ]
        }
      ]
    },
    {
      "cell_type": "markdown",
      "source": [
        "Question 4\n",
        "\n",
        "Which of the following functions can be used to load the diabetes dataset as a dataframe?\n",
        "\n",
        "(a) x,y= load_diabetes(as_frame=True,return_X_y=True)\n",
        "\n",
        "(b)x,y= load_diabetes(as_frame=True,return_X_y=False)\n",
        "\n",
        "(c) print(load('diabetes'))\n",
        "\n",
        "(d) load diabetes_frame\n",
        "\n",
        "Correct Answer: Option 1\n",
        "\n",
        "(1 Mark)"
      ],
      "metadata": {
        "id": "2vySGCPASH4L"
      }
    },
    {
      "cell_type": "markdown",
      "source": [
        "Question 5\n",
        "\n",
        "What are the datatypes of the feature matrix and the target matrix in the diabetes dataset (by using load_diabetes() from sklearn)?\n",
        "\n",
        "(a) DataFrame and Series\n",
        "\n",
        "(b) Series and DataFrame\n",
        "\n",
        "(c) Both are Series\n",
        "\n",
        "(d) Both are DataFrames\n",
        "\n",
        "Correct Answer: Option 1\n",
        "\n",
        "(1 Marks)"
      ],
      "metadata": {
        "id": "0Fc3GDb2SOC6"
      }
    },
    {
      "cell_type": "code",
      "source": [
        "import pandas as pd\n",
        "import matplotlib.pyplot as plt\n",
        "import seaborn as sns\n",
        "import numpy as np\n",
        "from sklearn.datasets import load_diabetes\n",
        "x,y = load_diabetes(as_frame=True, return_X_y=True) # x is the feature matrix, y is target matrix\n",
        "# return_X_ybool, default=False, If True, returns (data,target) instead of a bunch object. See below for more information about the data and target object.\n",
        "data = x+ y"
      ],
      "metadata": {
        "id": "CcU9ZCOuSO61"
      },
      "execution_count": 8,
      "outputs": []
    },
    {
      "cell_type": "code",
      "source": [
        "print(type(x)) # PRINT THE DATATYPE OF FEATURE MATRIX\n",
        "print(type(y)) # print the datatype of the target matrix\n",
        "print(type(data))"
      ],
      "metadata": {
        "colab": {
          "base_uri": "https://localhost:8080/"
        },
        "id": "uLoUc5PJThbb",
        "outputId": "bd7b7ea9-5f36-4461-dd46-30983bf7cec0"
      },
      "execution_count": 9,
      "outputs": [
        {
          "output_type": "stream",
          "name": "stdout",
          "text": [
            "<class 'pandas.core.frame.DataFrame'>\n",
            "<class 'pandas.core.series.Series'>\n",
            "<class 'pandas.core.frame.DataFrame'>\n"
          ]
        }
      ]
    },
    {
      "cell_type": "markdown",
      "source": [
        "Question 6: Which of the following options can be the output of the following code?"
      ],
      "metadata": {
        "id": "DyfZ3pcVUAVZ"
      }
    },
    {
      "cell_type": "code",
      "source": [
        "#codeblock\n",
        "from sklearn.datasets import make_blobs\n",
        "X, y = make_blobs(n_samples=10, centers=3, n_features=2, random_state=42)\n",
        "print (\"Feature matrix shape:\", X.shape)"
      ],
      "metadata": {
        "id": "3rAG2gPsUCv9"
      },
      "execution_count": null,
      "outputs": []
    },
    {
      "cell_type": "markdown",
      "source": [
        "(a) Feature matrix shape: (10, 2)\n",
        "\n",
        "(b) Feature matrix shape: (2, 10)\n",
        "\n",
        "(c) Feature matrix shape: (10, 10)\n",
        "\n",
        "(d) Feature matrix shape: (2, 2)\n",
        "\n",
        "Correct Answer: Option 1\n",
        "\n",
        "(2 Marks)"
      ],
      "metadata": {
        "id": "c3Sa-2oJUEdc"
      }
    },
    {
      "cell_type": "code",
      "source": [
        "from sklearn.datasets import make_blobs\n",
        "X,y = make_blobs(n_samples=10, centers=3, n_features=2, random_state=42)\n",
        "print(\"Feature matrix shape:\", X.shape)\n",
        "# print(\"Label shape:\", y.shape)\n"
      ],
      "metadata": {
        "colab": {
          "base_uri": "https://localhost:8080/"
        },
        "id": "al-zAf4nUF8D",
        "outputId": "cf97d635-6eef-486a-eeb0-fb87eee31617"
      },
      "execution_count": 13,
      "outputs": [
        {
          "output_type": "stream",
          "name": "stdout",
          "text": [
            "Feature matrix shape: (10, 2)\n"
          ]
        }
      ]
    },
    {
      "cell_type": "code",
      "source": [
        "X,y = make_blobs(n_samples=10, centers=3, n_features=2, random_state=42)\n",
        "print(\"Feature matrix shape:\", X.shape)\n",
        "print(\"Label shape:\", y.shape)"
      ],
      "metadata": {
        "colab": {
          "base_uri": "https://localhost:8080/"
        },
        "id": "Y0aqAhD7U1Mt",
        "outputId": "4a4dcc6f-e2d3-42f3-9425-a2d8d48a39bc"
      },
      "execution_count": 14,
      "outputs": [
        {
          "output_type": "stream",
          "name": "stdout",
          "text": [
            "Feature matrix shape: (10, 2)\n",
            "Label shape: (10,)\n"
          ]
        }
      ]
    },
    {
      "cell_type": "markdown",
      "source": [
        "## WEEK 1 GRADED"
      ],
      "metadata": {
        "id": "zcCJj4i4VEVK"
      }
    },
    {
      "cell_type": "markdown",
      "source": [
        "Question 1\n",
        "\n",
        "Find shape of the Wisconsin breast cancer dataset (https://archive.ics.uci.edu/ml/datasets/Breast+Cancer+Wisconsin+(Original)).\n",
        "\n",
        "(a)(570, 35)\n",
        "\n",
        "(b) (569, 33)\n",
        "\n",
        "(c) (33,569)\n",
        "\n",
        "(d) (35,570)\n",
        "\n",
        "Correct Answer: Option 2\n",
        "\n",
        "\n",
        "Question 2\n",
        "\n",
        "How many benign ( B ) tumour cases are present in the Wisconsin breast cancer dataset (https://archive.ics.uci.edu/ml/datasets/Breast+Cancer+Wisconsin+(Original))?\n",
        "\n",
        "(NAT Question)\n",
        "\n",
        "Correct Answer: 357\n",
        "\n",
        "(2 Marks)\n",
        "\n",
        "Question 3\n",
        "\n",
        "How many malignant ( M ) tumour cases are present in the Wisconsin breast cancer dataset (https://archive.ics.uci.edu/ml/datasets/Breast+Cancer+Wisconsin+(Original)).?\n",
        "\n",
        "(NAT Question)\n",
        "\n",
        "Correct Answer: 212\n",
        "\n",
        "(2 Marks)"
      ],
      "metadata": {
        "id": "ZNw_YT1SVTby"
      }
    },
    {
      "cell_type": "code",
      "source": [
        "import pandas as pd\n",
        "import numpy as np\n",
        "# import pandas_profiling\n",
        "import matplotlib.pyplot as plt\n",
        "import seaborn as sns\n",
        "from sklearn.preprocessing import StandardScaler"
      ],
      "metadata": {
        "id": "4k9nv1vtVjt_"
      },
      "execution_count": 16,
      "outputs": []
    },
    {
      "cell_type": "code",
      "source": [
        "from sklearn.datasets import load_breast_cancer\n",
        "X,y = load_breast_cancer(as_frame=True, return_X_y=True)\n",
        "X.shape"
      ],
      "metadata": {
        "colab": {
          "base_uri": "https://localhost:8080/"
        },
        "id": "GEyKQwrdaQM8",
        "outputId": "bb5fcb48-f093-4d80-834a-de3147347a0d"
      },
      "execution_count": 25,
      "outputs": [
        {
          "output_type": "execute_result",
          "data": {
            "text/plain": [
              "(569, 30)"
            ]
          },
          "metadata": {},
          "execution_count": 25
        }
      ]
    },
    {
      "cell_type": "code",
      "source": [
        "y.value_counts()"
      ],
      "metadata": {
        "colab": {
          "base_uri": "https://localhost:8080/"
        },
        "id": "8mQm4ezBanKh",
        "outputId": "1a52cf66-3368-4208-976a-919e85324c4f"
      },
      "execution_count": 26,
      "outputs": [
        {
          "output_type": "execute_result",
          "data": {
            "text/plain": [
              "1    357\n",
              "0    212\n",
              "Name: target, dtype: int64"
            ]
          },
          "metadata": {},
          "execution_count": 26
        }
      ]
    },
    {
      "cell_type": "markdown",
      "source": [
        "Instructions for Questions 4-6: Use the following code for importing California Housing dataset from sklearn. Also, name the dataset as housing_data and print description of the dataset.\n",
        "\n"
      ],
      "metadata": {
        "id": "-QzhBT7-bJzO"
      }
    },
    {
      "cell_type": "code",
      "source": [
        "#codeblock\n",
        "from sklearn.datasets import fetch_california_housing\n",
        "housing_data = fetch_california_housing()\n",
        "print(housing_data.DESCR)"
      ],
      "metadata": {
        "colab": {
          "base_uri": "https://localhost:8080/"
        },
        "id": "NjXOVAfYbK2H",
        "outputId": "746c1ada-76f8-4f64-9f29-9137fc6d5125"
      },
      "execution_count": 27,
      "outputs": [
        {
          "output_type": "stream",
          "name": "stdout",
          "text": [
            ".. _california_housing_dataset:\n",
            "\n",
            "California Housing dataset\n",
            "--------------------------\n",
            "\n",
            "**Data Set Characteristics:**\n",
            "\n",
            "    :Number of Instances: 20640\n",
            "\n",
            "    :Number of Attributes: 8 numeric, predictive attributes and the target\n",
            "\n",
            "    :Attribute Information:\n",
            "        - MedInc        median income in block group\n",
            "        - HouseAge      median house age in block group\n",
            "        - AveRooms      average number of rooms per household\n",
            "        - AveBedrms     average number of bedrooms per household\n",
            "        - Population    block group population\n",
            "        - AveOccup      average number of household members\n",
            "        - Latitude      block group latitude\n",
            "        - Longitude     block group longitude\n",
            "\n",
            "    :Missing Attribute Values: None\n",
            "\n",
            "This dataset was obtained from the StatLib repository.\n",
            "https://www.dcc.fc.up.pt/~ltorgo/Regression/cal_housing.html\n",
            "\n",
            "The target variable is the median house value for California districts,\n",
            "expressed in hundreds of thousands of dollars ($100,000).\n",
            "\n",
            "This dataset was derived from the 1990 U.S. census, using one row per census\n",
            "block group. A block group is the smallest geographical unit for which the U.S.\n",
            "Census Bureau publishes sample data (a block group typically has a population\n",
            "of 600 to 3,000 people).\n",
            "\n",
            "A household is a group of people residing within a home. Since the average\n",
            "number of rooms and bedrooms in this dataset are provided per household, these\n",
            "columns may take surprisingly large values for block groups with few households\n",
            "and many empty houses, such as vacation resorts.\n",
            "\n",
            "It can be downloaded/loaded using the\n",
            ":func:`sklearn.datasets.fetch_california_housing` function.\n",
            "\n",
            ".. topic:: References\n",
            "\n",
            "    - Pace, R. Kelley and Ronald Barry, Sparse Spatial Autoregressions,\n",
            "      Statistics and Probability Letters, 33 (1997) 291-297\n",
            "\n"
          ]
        }
      ]
    },
    {
      "cell_type": "markdown",
      "source": [
        "Question 4: Find out the shape of the feature matrix in california housing dataset.\n",
        "\n",
        "(a) (20118,19)\n",
        "\n",
        "(b) (20640, 8)\n",
        "\n",
        "(c) (8, 8)\n",
        "\n",
        "(d) (8, 20640)\n",
        "\n",
        "Correct Answer: Option 2\n",
        "\n",
        "(1 Marks)"
      ],
      "metadata": {
        "id": "NsNLJi5MbXhr"
      }
    },
    {
      "cell_type": "code",
      "source": [
        "print(housing_data.data.shape)\n",
        "# print(housing_data.data[:5])"
      ],
      "metadata": {
        "colab": {
          "base_uri": "https://localhost:8080/"
        },
        "id": "1cwuNZJVbYjc",
        "outputId": "18b7c5d2-4a7e-4212-b45e-b7e6b39828b2"
      },
      "execution_count": 28,
      "outputs": [
        {
          "output_type": "stream",
          "name": "stdout",
          "text": [
            "(20640, 8)\n"
          ]
        }
      ]
    },
    {
      "cell_type": "markdown",
      "source": [
        "Question 5: Find out the labels of the first five attributes in california housing dataset. Note, the labels are real-valued.\n",
        "\n",
        "(a) [4.526, 3.413, 3.422, 1.22, 6.02]\n",
        "\n",
        "(b) [4.526, 3.585, 3.521, 3.413, 3.422]\n",
        "\n",
        "(c) [3.413, 3.422, 4.526, 3.585, 1.249]\n",
        "\n",
        "(d) [4.526, 502.0, 3.521, 3.413, 1025.5]\n",
        "\n",
        "Correct Answer: Option 2\n",
        "\n",
        "(1.5 Marks)"
      ],
      "metadata": {
        "id": "duT8DlGLbm8E"
      }
    },
    {
      "cell_type": "code",
      "source": [
        "print(housing_data.target.shape)\n",
        "print(housing_data.target[:5])"
      ],
      "metadata": {
        "colab": {
          "base_uri": "https://localhost:8080/"
        },
        "id": "NpKoG71ebn-e",
        "outputId": "a478fca4-d06f-45a7-e4b0-a2270a63ed48"
      },
      "execution_count": 29,
      "outputs": [
        {
          "output_type": "stream",
          "name": "stdout",
          "text": [
            "(20640,)\n",
            "[4.526 3.585 3.521 3.413 3.422]\n"
          ]
        }
      ]
    },
    {
      "cell_type": "markdown",
      "source": [
        "Question 6: Find out the name of the class label in california housing dataset(target matrix)?\n",
        "\n",
        "(a)['MedHouseVal']\n",
        "\n",
        "(b) ['MedInc']\n",
        "\n",
        "(c) ['AveRooms']\n",
        "\n",
        "(d) ['Population']\n",
        "\n",
        "Correct Answer: Option 1\n",
        "\n",
        "(1 Marks)"
      ],
      "metadata": {
        "id": "rGE5gTzybz9d"
      }
    },
    {
      "cell_type": "code",
      "source": [
        "print(housing_data.feature_names)\n",
        "print(housing_data.target_names)"
      ],
      "metadata": {
        "colab": {
          "base_uri": "https://localhost:8080/"
        },
        "id": "TbnJCT0cb00C",
        "outputId": "8bee8d6e-4226-46fb-fae5-c3c2e17c1790"
      },
      "execution_count": 30,
      "outputs": [
        {
          "output_type": "stream",
          "name": "stdout",
          "text": [
            "['MedInc', 'HouseAge', 'AveRooms', 'AveBedrms', 'Population', 'AveOccup', 'Latitude', 'Longitude']\n",
            "['MedHouseVal']\n"
          ]
        }
      ]
    }
  ]
}